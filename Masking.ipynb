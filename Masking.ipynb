{
  "nbformat": 4,
  "nbformat_minor": 0,
  "metadata": {
    "colab": {
      "provenance": [],
      "gpuType": "T4",
      "authorship_tag": "ABX9TyMe1tTOD80vsmRheCKfV8n9",
      "include_colab_link": true
    },
    "kernelspec": {
      "name": "python3",
      "display_name": "Python 3"
    },
    "language_info": {
      "name": "python"
    },
    "accelerator": "GPU"
  },
  "cells": [
    {
      "cell_type": "markdown",
      "metadata": {
        "id": "view-in-github",
        "colab_type": "text"
      },
      "source": [
        "<a href=\"https://colab.research.google.com/github/rvraghvender/Tech-Test-ML-Hand/blob/main/Masking.ipynb\" target=\"_parent\"><img src=\"https://colab.research.google.com/assets/colab-badge.svg\" alt=\"Open In Colab\"/></a>"
      ]
    },
    {
      "cell_type": "markdown",
      "source": [
        "# Hand segmentation in Images (Background removal)"
      ],
      "metadata": {
        "id": "MA_I9bnv0fAx"
      }
    },
    {
      "cell_type": "code",
      "source": [
        "import zipfile\n",
        "import gdown\n",
        "import numpy as np\n",
        "import tensorflow as tf\n",
        "import pandas as pd\n",
        "import os\n",
        "from PIL import Image\n",
        "from glob import glob\n",
        "from tqdm import tqdm\n",
        "import cv2\n",
        "\n",
        "from sklearn.model_selection import train_test_split\n",
        "from sklearn.utils import shuffle\n",
        "from sklearn.metrics import accuracy_score\n",
        "from sklearn.metrics import f1_score\n",
        "from sklearn.metrics import jaccard_score\n",
        "from sklearn.metrics import precision_score\n",
        "from sklearn.metrics import recall_score\n",
        "\n",
        "\n",
        "from albumentations import HorizontalFlip\n",
        "from albumentations import GridDistortion\n",
        "from albumentations import OpticalDistortion\n",
        "from albumentations import ChannelShuffle\n",
        "from albumentations import CoarseDropout\n",
        "from albumentations import CenterCrop\n",
        "from albumentations import Crop\n",
        "from albumentations import Rotate\n",
        "\n",
        "\n",
        "from tensorflow.keras.layers import Input\n",
        "from tensorflow.keras.layers import Conv2D\n",
        "from tensorflow.keras.layers import BatchNormalization\n",
        "from tensorflow.keras.layers import Activation\n",
        "from tensorflow.keras.layers import MaxPool2D\n",
        "from tensorflow.keras.layers import Conv2DTranspose\n",
        "from tensorflow.keras.layers import Concatenate\n",
        "from tensorflow.keras.layers import AveragePooling2D\n",
        "from tensorflow.keras.layers import GlobalAveragePooling2D\n",
        "from tensorflow.keras.layers import UpSampling2D\n",
        "from tensorflow.keras.layers import Reshape\n",
        "from tensorflow.keras.layers import Dense\n",
        "\n",
        "from tensorflow.keras.models import Model\n",
        "from tensorflow.keras.applications import ResNet50\n",
        "\n",
        "from tensorflow.keras.callbacks import ModelCheckpoint\n",
        "from tensorflow.keras.callbacks import CSVLogger\n",
        "from tensorflow.keras.callbacks import ReduceLROnPlateau\n",
        "from tensorflow.keras.callbacks import EarlyStopping\n",
        "from tensorflow.keras.callbacks import TensorBoard\n",
        "\n",
        "from tensorflow.keras.optimizers import Adam\n",
        "from tensorflow.keras.metrics import Recall, Precision\n",
        "\n",
        "from tensorflow.keras.utils import CustomObjectScope\n",
        "\n",
        "import matplotlib.pyplot as plt\n",
        "%matplotlib inline"
      ],
      "metadata": {
        "id": "DmpjMIbA0k1T"
      },
      "execution_count": 1,
      "outputs": []
    },
    {
      "cell_type": "code",
      "source": [
        "# %rm new_data -r\n",
        "# %rm files -r"
      ],
      "metadata": {
        "id": "tvqvdUyO_Qlr"
      },
      "execution_count": 2,
      "outputs": []
    },
    {
      "cell_type": "code",
      "source": [
        "file_name = 'public_hand_dataset.zip'\n",
        "\n",
        "if not os.path.isfile(file_name):\n",
        "    file_id = '1Mc72BLGnZZQ0mhnh9rHOdJzYmITN-PPL'\n",
        "    url = f'https://drive.google.com/uc?id={file_id}'\n",
        "\n",
        "    downloaded_file = gdown.download(url, quiet=False)\n",
        "    with zipfile.ZipFile(downloaded_file) as zf:\n",
        "        zf.extractall()\n",
        "else:\n",
        "    print('File already exists.')"
      ],
      "metadata": {
        "id": "FraMe45e22w6",
        "colab": {
          "base_uri": "https://localhost:8080/",
          "height": 0
        },
        "outputId": "ae1c7aee-2d64-496e-89e2-525fed63686f"
      },
      "execution_count": 3,
      "outputs": [
        {
          "output_type": "stream",
          "name": "stderr",
          "text": [
            "Downloading...\n",
            "From: https://drive.google.com/uc?id=1Mc72BLGnZZQ0mhnh9rHOdJzYmITN-PPL\n",
            "To: /content/public_hand_dataset.zip\n",
            "100%|██████████| 737M/737M [00:07<00:00, 101MB/s]\n"
          ]
        }
      ]
    },
    {
      "cell_type": "code",
      "source": [
        "file_name_prefix = file_name.split('.')[0]\n",
        "list_folder = os.listdir(file_name_prefix)\n",
        "print(f'Number of examples in dataset: {len(list_folder)}')"
      ],
      "metadata": {
        "colab": {
          "base_uri": "https://localhost:8080/",
          "height": 0
        },
        "id": "2sOPbN6Co8SY",
        "outputId": "07ce34e0-dac9-43ef-c3b3-0b8601241c6f"
      },
      "execution_count": 4,
      "outputs": [
        {
          "output_type": "stream",
          "name": "stdout",
          "text": [
            "Number of examples in dataset: 150\n"
          ]
        }
      ]
    },
    {
      "cell_type": "code",
      "source": [
        "def create_dir(path):\n",
        "    if not os.path.exists(path):\n",
        "        os.makedirs(path)"
      ],
      "metadata": {
        "id": "pg6LC8D6mUkH"
      },
      "execution_count": 5,
      "outputs": []
    },
    {
      "cell_type": "code",
      "source": [
        "def load_data(path, split=0.1):\n",
        "\n",
        "    # Loading the original and mask images\"\n",
        "    X = sorted(glob(os.path.join(path, \"*\", \"original\", \"*.jpeg\")))\n",
        "    Y = sorted(glob(os.path.join(path, \"*\", \"no_bg\", \"*.jpeg\")))\n",
        "\n",
        "    # Splitting the data into training and testing\n",
        "    split_size = int(len(X) * split)\n",
        "\n",
        "    train_x, test_x = train_test_split(X, test_size=split_size, random_state=42)\n",
        "    train_y, test_y = train_test_split(Y, test_size=split_size, random_state=42)\n",
        "\n",
        "    return (train_x, train_y), (test_x, test_y)"
      ],
      "metadata": {
        "id": "fb53fvewnFcs"
      },
      "execution_count": 6,
      "outputs": []
    },
    {
      "cell_type": "code",
      "source": [
        "np.random.seed(42)\n",
        "\n",
        "# Load the dataset\n",
        "data_path = \"public_hand_dataset\"\n",
        "(train_x, train_y), (test_x, test_y) = load_data(data_path)\n",
        "print(f\"Train: \\t{len(train_x)} - {len(train_y)}\")\n",
        "print(f\"Test: \\t{len(test_x)} - {len(test_y)}\")\n"
      ],
      "metadata": {
        "colab": {
          "base_uri": "https://localhost:8080/",
          "height": 0
        },
        "id": "KlaWfQQUmwaf",
        "outputId": "92b8cabd-6671-491d-d137-93203da087e2"
      },
      "execution_count": 7,
      "outputs": [
        {
          "output_type": "stream",
          "name": "stdout",
          "text": [
            "Train: \t135 - 135\n",
            "Test: \t15 - 15\n"
          ]
        }
      ]
    },
    {
      "cell_type": "code",
      "source": [
        "# Creating directories to save the augumented data\n",
        "create_dir(\"new_data/train/original_images/\")\n",
        "create_dir(\"new_data/train/mask_images/\")\n",
        "create_dir(\"new_data/test/original_images/\")\n",
        "create_dir(\"new_data/test/mask_images/\")"
      ],
      "metadata": {
        "id": "7q-3ooWO3ydP"
      },
      "execution_count": 8,
      "outputs": []
    },
    {
      "cell_type": "code",
      "source": [
        "# Data augmentation\n",
        "def augment_data(images, masks, save_path, augment=True):\n",
        "    H = 512\n",
        "    W = 256\n",
        "\n",
        "    for x, y in tqdm(zip(images, masks), total=len(images)):\n",
        "        # Extract the name\n",
        "        original_image_name = x.split('/')\n",
        "        original_image_name = '-'.join(original_image_name[1:])\n",
        "\n",
        "        mask_image_name = y.split('/')\n",
        "        mask_image_name = '-'.join(mask_image_name[1:])\n",
        "\n",
        "        # Reading the image and mask\n",
        "        x = cv2.imread(x, cv2.IMREAD_COLOR)\n",
        "        y = cv2.imread(y, cv2.IMREAD_COLOR)\n",
        "\n",
        "        if augment == True:\n",
        "            aug = HorizontalFlip(p=1.0)\n",
        "            augmented = aug(image=x, mask=y)\n",
        "            x1 = augmented['image']\n",
        "            y1 = augmented['mask']\n",
        "\n",
        "            x2 = cv2.cvtColor(x, cv2.COLOR_RGB2GRAY)\n",
        "            y2 = cv2.cvtColor(y, cv2.COLOR_RGB2GRAY)\n",
        "\n",
        "            aug = ChannelShuffle(p=1)\n",
        "            augmented = aug(image=x, mask=y)\n",
        "            x3 = augmented['image']\n",
        "            y3 = augmented['mask']\n",
        "\n",
        "            aug = CoarseDropout(p=1, min_holes=3, max_holes=10, max_height=32, max_width=32)\n",
        "            augmented = aug(image=x, mask=y)\n",
        "            x4 = augmented['image']\n",
        "            y4 = augmented['mask']\n",
        "\n",
        "            aug = Rotate(limit=45, p=1.0)\n",
        "            augmented = aug(image=x, mask=y)\n",
        "            x5 = augmented['image']\n",
        "            y5 = augmented['mask']\n",
        "\n",
        "            X = [x, x1, x2, x3, x4, x5]\n",
        "            Y = [y, y1, y2, y3, y4, y5]\n",
        "        else:\n",
        "            X = [x]\n",
        "            Y = [y]\n",
        "\n",
        "        index = 0\n",
        "        for i, m in zip(X, Y):\n",
        "\n",
        "            try:\n",
        "                import tttttttttt\n",
        "                # Center cropping\n",
        "                aug = CenterCrop(H, W, p=1.0)\n",
        "                augmented = aug(image=i, mask=m)\n",
        "                i = augmented['image']\n",
        "                m = augmented['mask']\n",
        "\n",
        "            except Exception as e:\n",
        "                i = cv2.resize(i, (W, H))\n",
        "                m = cv2.resize(m, (W, H))\n",
        "\n",
        "            image_path = os.path.join(save_path, \"original_images\", f\"{index}_{original_image_name}\")\n",
        "            mask_path = os.path.join(save_path, \"mask_images\", f\"{index}_{mask_image_name}\")\n",
        "\n",
        "            cv2.imwrite(image_path, i)\n",
        "            cv2.imwrite(mask_path, m)\n",
        "\n",
        "            index += 1"
      ],
      "metadata": {
        "id": "F3vwIr78Q4J8"
      },
      "execution_count": 9,
      "outputs": []
    },
    {
      "cell_type": "code",
      "source": [
        "augment_data(train_x, train_y, \"new_data/train/\", augment=True)\n",
        "augment_data(test_x, test_y, \"new_data/test/\", augment=False)"
      ],
      "metadata": {
        "colab": {
          "base_uri": "https://localhost:8080/",
          "height": 0
        },
        "id": "MfIp6BWwp5V1",
        "outputId": "c755046f-ddb5-429d-9636-7448f495ebf4"
      },
      "execution_count": 10,
      "outputs": [
        {
          "output_type": "stream",
          "name": "stderr",
          "text": [
            "100%|██████████| 135/135 [01:20<00:00,  1.67it/s]\n",
            "100%|██████████| 15/15 [00:04<00:00,  3.17it/s]\n"
          ]
        }
      ]
    },
    {
      "cell_type": "code",
      "source": [
        "def squeeze_and_excite(inputs, ratio=8):\n",
        "    init = inputs\n",
        "    filters = init.shape[-1]\n",
        "    se_shape = (1, 1, filters)\n",
        "\n",
        "    se = GlobalAveragePooling2D()(init)\n",
        "    se = Reshape(se_shape)(se)\n",
        "    se = Dense(filters // ratio, activation='relu', kernel_initializer='he_normal', use_bias=False)(se)\n",
        "    se = Dense(filters, activation='sigmoid', kernel_initializer='he_normal', use_bias=False)(se)\n",
        "    x = init * se\n",
        "    return x\n",
        "\n"
      ],
      "metadata": {
        "id": "9fuGYYSw73qm"
      },
      "execution_count": 11,
      "outputs": []
    },
    {
      "cell_type": "code",
      "source": [
        "def ASPP(inputs):\n",
        "    \" Image Pooling\"\n",
        "    shape = inputs.shape\n",
        "    y1 = AveragePooling2D(pool_size=(shape[1], shape[2]))(inputs)\n",
        "    y1 = Conv2D(256, 1, padding='same', use_bias=False)(y1)\n",
        "    y1 = BatchNormalization()(y1)\n",
        "    y1 = Activation('relu')(y1)\n",
        "    y1 = UpSampling2D((shape[1], shape[2]), interpolation='bilinear')(y1)\n",
        "\n",
        "    \" 1X1 Conv \"\n",
        "    y2 = Conv2D(256, 1, padding='same', use_bias=False)(inputs)\n",
        "    y2 = BatchNormalization()(y2)\n",
        "    y2 = Activation('relu')(y2)\n",
        "\n",
        "    \" 3X3 Conv rate=6 \"\n",
        "    y3 = Conv2D(256, 3, padding='same', use_bias=False, dilation_rate=6)(inputs)\n",
        "    y3 = BatchNormalization()(y3)\n",
        "    y3 = Activation('relu')(y3)\n",
        "\n",
        "    \" 3X3 Conv rate=12 \"\n",
        "    y4 = Conv2D(256, 3, padding='same', use_bias=False, dilation_rate=12)(inputs)\n",
        "    y4 = BatchNormalization()(y4)\n",
        "    y4 = Activation('relu')(y4)\n",
        "\n",
        "    \" 3X3 Conv rate=18 \"\n",
        "    y5 = Conv2D(256, 3, padding='same', use_bias=False, dilation_rate=18)(inputs)\n",
        "    y5 = BatchNormalization()(y5)\n",
        "    y5 = Activation('relu')(y5)\n",
        "\n",
        "    y = Concatenate()([y1, y2, y3, y4, y5])\n",
        "\n",
        "    \" 1X1 Conv \"\n",
        "    y = Conv2D(256, 1, padding='same', use_bias=False)(y)\n",
        "    y = BatchNormalization()(y)\n",
        "    y = Activation('relu')(y)\n",
        "\n",
        "    return y"
      ],
      "metadata": {
        "id": "BsAY3Vf41NIr"
      },
      "execution_count": 12,
      "outputs": []
    },
    {
      "cell_type": "code",
      "source": [
        "def deeplabv3_plus(shape):\n",
        "\n",
        "    # Input\n",
        "    inputs = Input(shape)\n",
        "\n",
        "    # Encoder\n",
        "    encoder = ResNet50(weights='imagenet', include_top=False, input_tensor=inputs)\n",
        "\n",
        "    image_features = encoder.get_layer(\"conv4_block5_out\").output\n",
        "    x_a = ASPP(image_features)\n",
        "    x_a = UpSampling2D((4,4), interpolation='bilinear')(x_a)\n",
        "\n",
        "    x_b = encoder.get_layer('conv2_block2_out').output\n",
        "    x_b = Conv2D(filters=48, kernel_size=1, padding='same', use_bias=False)(x_b)\n",
        "    x_b = BatchNormalization()(x_b)\n",
        "    x_b = Activation('relu')(x_b)\n",
        "\n",
        "    x = Concatenate()([x_a, x_b])\n",
        "    x = squeeze_and_excite(x)\n",
        "\n",
        "    x = Conv2D(filters=256, kernel_size=3, padding='same', use_bias=False)(x)\n",
        "    x = BatchNormalization()(x)\n",
        "    x = Activation('relu')(x)\n",
        "\n",
        "    x = Conv2D(filters=256, kernel_size=3, padding='same', use_bias=False)(x)\n",
        "    x = BatchNormalization()(x)\n",
        "    x = Activation('relu')(x)\n",
        "    x = squeeze_and_excite(x)\n",
        "\n",
        "    x = UpSampling2D((4,4), interpolation='bilinear')(x)\n",
        "    x = Conv2D(1,1)(x)\n",
        "    x = Activation('sigmoid')(x)\n",
        "\n",
        "    model = Model(inputs, x)\n",
        "    return model\n",
        "\n",
        "\n"
      ],
      "metadata": {
        "id": "ryO2DBRm1G-v"
      },
      "execution_count": 13,
      "outputs": []
    },
    {
      "cell_type": "code",
      "source": [
        "model = deeplabv3_plus((512,256, 3))\n",
        "model.summary()"
      ],
      "metadata": {
        "colab": {
          "base_uri": "https://localhost:8080/",
          "height": 0
        },
        "id": "JPfQ6mMz1h0C",
        "outputId": "5d0d77b7-993a-44e9-a0ef-f3317bf85ec7"
      },
      "execution_count": 14,
      "outputs": [
        {
          "output_type": "stream",
          "name": "stdout",
          "text": [
            "Downloading data from https://storage.googleapis.com/tensorflow/keras-applications/resnet/resnet50_weights_tf_dim_ordering_tf_kernels_notop.h5\n",
            "94765736/94765736 [==============================] - 0s 0us/step\n",
            "Model: \"model\"\n",
            "__________________________________________________________________________________________________\n",
            " Layer (type)                Output Shape                 Param #   Connected to                  \n",
            "==================================================================================================\n",
            " input_1 (InputLayer)        [(None, 512, 256, 3)]        0         []                            \n",
            "                                                                                                  \n",
            " conv1_pad (ZeroPadding2D)   (None, 518, 262, 3)          0         ['input_1[0][0]']             \n",
            "                                                                                                  \n",
            " conv1_conv (Conv2D)         (None, 256, 128, 64)         9472      ['conv1_pad[0][0]']           \n",
            "                                                                                                  \n",
            " conv1_bn (BatchNormalizati  (None, 256, 128, 64)         256       ['conv1_conv[0][0]']          \n",
            " on)                                                                                              \n",
            "                                                                                                  \n",
            " conv1_relu (Activation)     (None, 256, 128, 64)         0         ['conv1_bn[0][0]']            \n",
            "                                                                                                  \n",
            " pool1_pad (ZeroPadding2D)   (None, 258, 130, 64)         0         ['conv1_relu[0][0]']          \n",
            "                                                                                                  \n",
            " pool1_pool (MaxPooling2D)   (None, 128, 64, 64)          0         ['pool1_pad[0][0]']           \n",
            "                                                                                                  \n",
            " conv2_block1_1_conv (Conv2  (None, 128, 64, 64)          4160      ['pool1_pool[0][0]']          \n",
            " D)                                                                                               \n",
            "                                                                                                  \n",
            " conv2_block1_1_bn (BatchNo  (None, 128, 64, 64)          256       ['conv2_block1_1_conv[0][0]'] \n",
            " rmalization)                                                                                     \n",
            "                                                                                                  \n",
            " conv2_block1_1_relu (Activ  (None, 128, 64, 64)          0         ['conv2_block1_1_bn[0][0]']   \n",
            " ation)                                                                                           \n",
            "                                                                                                  \n",
            " conv2_block1_2_conv (Conv2  (None, 128, 64, 64)          36928     ['conv2_block1_1_relu[0][0]'] \n",
            " D)                                                                                               \n",
            "                                                                                                  \n",
            " conv2_block1_2_bn (BatchNo  (None, 128, 64, 64)          256       ['conv2_block1_2_conv[0][0]'] \n",
            " rmalization)                                                                                     \n",
            "                                                                                                  \n",
            " conv2_block1_2_relu (Activ  (None, 128, 64, 64)          0         ['conv2_block1_2_bn[0][0]']   \n",
            " ation)                                                                                           \n",
            "                                                                                                  \n",
            " conv2_block1_0_conv (Conv2  (None, 128, 64, 256)         16640     ['pool1_pool[0][0]']          \n",
            " D)                                                                                               \n",
            "                                                                                                  \n",
            " conv2_block1_3_conv (Conv2  (None, 128, 64, 256)         16640     ['conv2_block1_2_relu[0][0]'] \n",
            " D)                                                                                               \n",
            "                                                                                                  \n",
            " conv2_block1_0_bn (BatchNo  (None, 128, 64, 256)         1024      ['conv2_block1_0_conv[0][0]'] \n",
            " rmalization)                                                                                     \n",
            "                                                                                                  \n",
            " conv2_block1_3_bn (BatchNo  (None, 128, 64, 256)         1024      ['conv2_block1_3_conv[0][0]'] \n",
            " rmalization)                                                                                     \n",
            "                                                                                                  \n",
            " conv2_block1_add (Add)      (None, 128, 64, 256)         0         ['conv2_block1_0_bn[0][0]',   \n",
            "                                                                     'conv2_block1_3_bn[0][0]']   \n",
            "                                                                                                  \n",
            " conv2_block1_out (Activati  (None, 128, 64, 256)         0         ['conv2_block1_add[0][0]']    \n",
            " on)                                                                                              \n",
            "                                                                                                  \n",
            " conv2_block2_1_conv (Conv2  (None, 128, 64, 64)          16448     ['conv2_block1_out[0][0]']    \n",
            " D)                                                                                               \n",
            "                                                                                                  \n",
            " conv2_block2_1_bn (BatchNo  (None, 128, 64, 64)          256       ['conv2_block2_1_conv[0][0]'] \n",
            " rmalization)                                                                                     \n",
            "                                                                                                  \n",
            " conv2_block2_1_relu (Activ  (None, 128, 64, 64)          0         ['conv2_block2_1_bn[0][0]']   \n",
            " ation)                                                                                           \n",
            "                                                                                                  \n",
            " conv2_block2_2_conv (Conv2  (None, 128, 64, 64)          36928     ['conv2_block2_1_relu[0][0]'] \n",
            " D)                                                                                               \n",
            "                                                                                                  \n",
            " conv2_block2_2_bn (BatchNo  (None, 128, 64, 64)          256       ['conv2_block2_2_conv[0][0]'] \n",
            " rmalization)                                                                                     \n",
            "                                                                                                  \n",
            " conv2_block2_2_relu (Activ  (None, 128, 64, 64)          0         ['conv2_block2_2_bn[0][0]']   \n",
            " ation)                                                                                           \n",
            "                                                                                                  \n",
            " conv2_block2_3_conv (Conv2  (None, 128, 64, 256)         16640     ['conv2_block2_2_relu[0][0]'] \n",
            " D)                                                                                               \n",
            "                                                                                                  \n",
            " conv2_block2_3_bn (BatchNo  (None, 128, 64, 256)         1024      ['conv2_block2_3_conv[0][0]'] \n",
            " rmalization)                                                                                     \n",
            "                                                                                                  \n",
            " conv2_block2_add (Add)      (None, 128, 64, 256)         0         ['conv2_block1_out[0][0]',    \n",
            "                                                                     'conv2_block2_3_bn[0][0]']   \n",
            "                                                                                                  \n",
            " conv2_block2_out (Activati  (None, 128, 64, 256)         0         ['conv2_block2_add[0][0]']    \n",
            " on)                                                                                              \n",
            "                                                                                                  \n",
            " conv2_block3_1_conv (Conv2  (None, 128, 64, 64)          16448     ['conv2_block2_out[0][0]']    \n",
            " D)                                                                                               \n",
            "                                                                                                  \n",
            " conv2_block3_1_bn (BatchNo  (None, 128, 64, 64)          256       ['conv2_block3_1_conv[0][0]'] \n",
            " rmalization)                                                                                     \n",
            "                                                                                                  \n",
            " conv2_block3_1_relu (Activ  (None, 128, 64, 64)          0         ['conv2_block3_1_bn[0][0]']   \n",
            " ation)                                                                                           \n",
            "                                                                                                  \n",
            " conv2_block3_2_conv (Conv2  (None, 128, 64, 64)          36928     ['conv2_block3_1_relu[0][0]'] \n",
            " D)                                                                                               \n",
            "                                                                                                  \n",
            " conv2_block3_2_bn (BatchNo  (None, 128, 64, 64)          256       ['conv2_block3_2_conv[0][0]'] \n",
            " rmalization)                                                                                     \n",
            "                                                                                                  \n",
            " conv2_block3_2_relu (Activ  (None, 128, 64, 64)          0         ['conv2_block3_2_bn[0][0]']   \n",
            " ation)                                                                                           \n",
            "                                                                                                  \n",
            " conv2_block3_3_conv (Conv2  (None, 128, 64, 256)         16640     ['conv2_block3_2_relu[0][0]'] \n",
            " D)                                                                                               \n",
            "                                                                                                  \n",
            " conv2_block3_3_bn (BatchNo  (None, 128, 64, 256)         1024      ['conv2_block3_3_conv[0][0]'] \n",
            " rmalization)                                                                                     \n",
            "                                                                                                  \n",
            " conv2_block3_add (Add)      (None, 128, 64, 256)         0         ['conv2_block2_out[0][0]',    \n",
            "                                                                     'conv2_block3_3_bn[0][0]']   \n",
            "                                                                                                  \n",
            " conv2_block3_out (Activati  (None, 128, 64, 256)         0         ['conv2_block3_add[0][0]']    \n",
            " on)                                                                                              \n",
            "                                                                                                  \n",
            " conv3_block1_1_conv (Conv2  (None, 64, 32, 128)          32896     ['conv2_block3_out[0][0]']    \n",
            " D)                                                                                               \n",
            "                                                                                                  \n",
            " conv3_block1_1_bn (BatchNo  (None, 64, 32, 128)          512       ['conv3_block1_1_conv[0][0]'] \n",
            " rmalization)                                                                                     \n",
            "                                                                                                  \n",
            " conv3_block1_1_relu (Activ  (None, 64, 32, 128)          0         ['conv3_block1_1_bn[0][0]']   \n",
            " ation)                                                                                           \n",
            "                                                                                                  \n",
            " conv3_block1_2_conv (Conv2  (None, 64, 32, 128)          147584    ['conv3_block1_1_relu[0][0]'] \n",
            " D)                                                                                               \n",
            "                                                                                                  \n",
            " conv3_block1_2_bn (BatchNo  (None, 64, 32, 128)          512       ['conv3_block1_2_conv[0][0]'] \n",
            " rmalization)                                                                                     \n",
            "                                                                                                  \n",
            " conv3_block1_2_relu (Activ  (None, 64, 32, 128)          0         ['conv3_block1_2_bn[0][0]']   \n",
            " ation)                                                                                           \n",
            "                                                                                                  \n",
            " conv3_block1_0_conv (Conv2  (None, 64, 32, 512)          131584    ['conv2_block3_out[0][0]']    \n",
            " D)                                                                                               \n",
            "                                                                                                  \n",
            " conv3_block1_3_conv (Conv2  (None, 64, 32, 512)          66048     ['conv3_block1_2_relu[0][0]'] \n",
            " D)                                                                                               \n",
            "                                                                                                  \n",
            " conv3_block1_0_bn (BatchNo  (None, 64, 32, 512)          2048      ['conv3_block1_0_conv[0][0]'] \n",
            " rmalization)                                                                                     \n",
            "                                                                                                  \n",
            " conv3_block1_3_bn (BatchNo  (None, 64, 32, 512)          2048      ['conv3_block1_3_conv[0][0]'] \n",
            " rmalization)                                                                                     \n",
            "                                                                                                  \n",
            " conv3_block1_add (Add)      (None, 64, 32, 512)          0         ['conv3_block1_0_bn[0][0]',   \n",
            "                                                                     'conv3_block1_3_bn[0][0]']   \n",
            "                                                                                                  \n",
            " conv3_block1_out (Activati  (None, 64, 32, 512)          0         ['conv3_block1_add[0][0]']    \n",
            " on)                                                                                              \n",
            "                                                                                                  \n",
            " conv3_block2_1_conv (Conv2  (None, 64, 32, 128)          65664     ['conv3_block1_out[0][0]']    \n",
            " D)                                                                                               \n",
            "                                                                                                  \n",
            " conv3_block2_1_bn (BatchNo  (None, 64, 32, 128)          512       ['conv3_block2_1_conv[0][0]'] \n",
            " rmalization)                                                                                     \n",
            "                                                                                                  \n",
            " conv3_block2_1_relu (Activ  (None, 64, 32, 128)          0         ['conv3_block2_1_bn[0][0]']   \n",
            " ation)                                                                                           \n",
            "                                                                                                  \n",
            " conv3_block2_2_conv (Conv2  (None, 64, 32, 128)          147584    ['conv3_block2_1_relu[0][0]'] \n",
            " D)                                                                                               \n",
            "                                                                                                  \n",
            " conv3_block2_2_bn (BatchNo  (None, 64, 32, 128)          512       ['conv3_block2_2_conv[0][0]'] \n",
            " rmalization)                                                                                     \n",
            "                                                                                                  \n",
            " conv3_block2_2_relu (Activ  (None, 64, 32, 128)          0         ['conv3_block2_2_bn[0][0]']   \n",
            " ation)                                                                                           \n",
            "                                                                                                  \n",
            " conv3_block2_3_conv (Conv2  (None, 64, 32, 512)          66048     ['conv3_block2_2_relu[0][0]'] \n",
            " D)                                                                                               \n",
            "                                                                                                  \n",
            " conv3_block2_3_bn (BatchNo  (None, 64, 32, 512)          2048      ['conv3_block2_3_conv[0][0]'] \n",
            " rmalization)                                                                                     \n",
            "                                                                                                  \n",
            " conv3_block2_add (Add)      (None, 64, 32, 512)          0         ['conv3_block1_out[0][0]',    \n",
            "                                                                     'conv3_block2_3_bn[0][0]']   \n",
            "                                                                                                  \n",
            " conv3_block2_out (Activati  (None, 64, 32, 512)          0         ['conv3_block2_add[0][0]']    \n",
            " on)                                                                                              \n",
            "                                                                                                  \n",
            " conv3_block3_1_conv (Conv2  (None, 64, 32, 128)          65664     ['conv3_block2_out[0][0]']    \n",
            " D)                                                                                               \n",
            "                                                                                                  \n",
            " conv3_block3_1_bn (BatchNo  (None, 64, 32, 128)          512       ['conv3_block3_1_conv[0][0]'] \n",
            " rmalization)                                                                                     \n",
            "                                                                                                  \n",
            " conv3_block3_1_relu (Activ  (None, 64, 32, 128)          0         ['conv3_block3_1_bn[0][0]']   \n",
            " ation)                                                                                           \n",
            "                                                                                                  \n",
            " conv3_block3_2_conv (Conv2  (None, 64, 32, 128)          147584    ['conv3_block3_1_relu[0][0]'] \n",
            " D)                                                                                               \n",
            "                                                                                                  \n",
            " conv3_block3_2_bn (BatchNo  (None, 64, 32, 128)          512       ['conv3_block3_2_conv[0][0]'] \n",
            " rmalization)                                                                                     \n",
            "                                                                                                  \n",
            " conv3_block3_2_relu (Activ  (None, 64, 32, 128)          0         ['conv3_block3_2_bn[0][0]']   \n",
            " ation)                                                                                           \n",
            "                                                                                                  \n",
            " conv3_block3_3_conv (Conv2  (None, 64, 32, 512)          66048     ['conv3_block3_2_relu[0][0]'] \n",
            " D)                                                                                               \n",
            "                                                                                                  \n",
            " conv3_block3_3_bn (BatchNo  (None, 64, 32, 512)          2048      ['conv3_block3_3_conv[0][0]'] \n",
            " rmalization)                                                                                     \n",
            "                                                                                                  \n",
            " conv3_block3_add (Add)      (None, 64, 32, 512)          0         ['conv3_block2_out[0][0]',    \n",
            "                                                                     'conv3_block3_3_bn[0][0]']   \n",
            "                                                                                                  \n",
            " conv3_block3_out (Activati  (None, 64, 32, 512)          0         ['conv3_block3_add[0][0]']    \n",
            " on)                                                                                              \n",
            "                                                                                                  \n",
            " conv3_block4_1_conv (Conv2  (None, 64, 32, 128)          65664     ['conv3_block3_out[0][0]']    \n",
            " D)                                                                                               \n",
            "                                                                                                  \n",
            " conv3_block4_1_bn (BatchNo  (None, 64, 32, 128)          512       ['conv3_block4_1_conv[0][0]'] \n",
            " rmalization)                                                                                     \n",
            "                                                                                                  \n",
            " conv3_block4_1_relu (Activ  (None, 64, 32, 128)          0         ['conv3_block4_1_bn[0][0]']   \n",
            " ation)                                                                                           \n",
            "                                                                                                  \n",
            " conv3_block4_2_conv (Conv2  (None, 64, 32, 128)          147584    ['conv3_block4_1_relu[0][0]'] \n",
            " D)                                                                                               \n",
            "                                                                                                  \n",
            " conv3_block4_2_bn (BatchNo  (None, 64, 32, 128)          512       ['conv3_block4_2_conv[0][0]'] \n",
            " rmalization)                                                                                     \n",
            "                                                                                                  \n",
            " conv3_block4_2_relu (Activ  (None, 64, 32, 128)          0         ['conv3_block4_2_bn[0][0]']   \n",
            " ation)                                                                                           \n",
            "                                                                                                  \n",
            " conv3_block4_3_conv (Conv2  (None, 64, 32, 512)          66048     ['conv3_block4_2_relu[0][0]'] \n",
            " D)                                                                                               \n",
            "                                                                                                  \n",
            " conv3_block4_3_bn (BatchNo  (None, 64, 32, 512)          2048      ['conv3_block4_3_conv[0][0]'] \n",
            " rmalization)                                                                                     \n",
            "                                                                                                  \n",
            " conv3_block4_add (Add)      (None, 64, 32, 512)          0         ['conv3_block3_out[0][0]',    \n",
            "                                                                     'conv3_block4_3_bn[0][0]']   \n",
            "                                                                                                  \n",
            " conv3_block4_out (Activati  (None, 64, 32, 512)          0         ['conv3_block4_add[0][0]']    \n",
            " on)                                                                                              \n",
            "                                                                                                  \n",
            " conv4_block1_1_conv (Conv2  (None, 32, 16, 256)          131328    ['conv3_block4_out[0][0]']    \n",
            " D)                                                                                               \n",
            "                                                                                                  \n",
            " conv4_block1_1_bn (BatchNo  (None, 32, 16, 256)          1024      ['conv4_block1_1_conv[0][0]'] \n",
            " rmalization)                                                                                     \n",
            "                                                                                                  \n",
            " conv4_block1_1_relu (Activ  (None, 32, 16, 256)          0         ['conv4_block1_1_bn[0][0]']   \n",
            " ation)                                                                                           \n",
            "                                                                                                  \n",
            " conv4_block1_2_conv (Conv2  (None, 32, 16, 256)          590080    ['conv4_block1_1_relu[0][0]'] \n",
            " D)                                                                                               \n",
            "                                                                                                  \n",
            " conv4_block1_2_bn (BatchNo  (None, 32, 16, 256)          1024      ['conv4_block1_2_conv[0][0]'] \n",
            " rmalization)                                                                                     \n",
            "                                                                                                  \n",
            " conv4_block1_2_relu (Activ  (None, 32, 16, 256)          0         ['conv4_block1_2_bn[0][0]']   \n",
            " ation)                                                                                           \n",
            "                                                                                                  \n",
            " conv4_block1_0_conv (Conv2  (None, 32, 16, 1024)         525312    ['conv3_block4_out[0][0]']    \n",
            " D)                                                                                               \n",
            "                                                                                                  \n",
            " conv4_block1_3_conv (Conv2  (None, 32, 16, 1024)         263168    ['conv4_block1_2_relu[0][0]'] \n",
            " D)                                                                                               \n",
            "                                                                                                  \n",
            " conv4_block1_0_bn (BatchNo  (None, 32, 16, 1024)         4096      ['conv4_block1_0_conv[0][0]'] \n",
            " rmalization)                                                                                     \n",
            "                                                                                                  \n",
            " conv4_block1_3_bn (BatchNo  (None, 32, 16, 1024)         4096      ['conv4_block1_3_conv[0][0]'] \n",
            " rmalization)                                                                                     \n",
            "                                                                                                  \n",
            " conv4_block1_add (Add)      (None, 32, 16, 1024)         0         ['conv4_block1_0_bn[0][0]',   \n",
            "                                                                     'conv4_block1_3_bn[0][0]']   \n",
            "                                                                                                  \n",
            " conv4_block1_out (Activati  (None, 32, 16, 1024)         0         ['conv4_block1_add[0][0]']    \n",
            " on)                                                                                              \n",
            "                                                                                                  \n",
            " conv4_block2_1_conv (Conv2  (None, 32, 16, 256)          262400    ['conv4_block1_out[0][0]']    \n",
            " D)                                                                                               \n",
            "                                                                                                  \n",
            " conv4_block2_1_bn (BatchNo  (None, 32, 16, 256)          1024      ['conv4_block2_1_conv[0][0]'] \n",
            " rmalization)                                                                                     \n",
            "                                                                                                  \n",
            " conv4_block2_1_relu (Activ  (None, 32, 16, 256)          0         ['conv4_block2_1_bn[0][0]']   \n",
            " ation)                                                                                           \n",
            "                                                                                                  \n",
            " conv4_block2_2_conv (Conv2  (None, 32, 16, 256)          590080    ['conv4_block2_1_relu[0][0]'] \n",
            " D)                                                                                               \n",
            "                                                                                                  \n",
            " conv4_block2_2_bn (BatchNo  (None, 32, 16, 256)          1024      ['conv4_block2_2_conv[0][0]'] \n",
            " rmalization)                                                                                     \n",
            "                                                                                                  \n",
            " conv4_block2_2_relu (Activ  (None, 32, 16, 256)          0         ['conv4_block2_2_bn[0][0]']   \n",
            " ation)                                                                                           \n",
            "                                                                                                  \n",
            " conv4_block2_3_conv (Conv2  (None, 32, 16, 1024)         263168    ['conv4_block2_2_relu[0][0]'] \n",
            " D)                                                                                               \n",
            "                                                                                                  \n",
            " conv4_block2_3_bn (BatchNo  (None, 32, 16, 1024)         4096      ['conv4_block2_3_conv[0][0]'] \n",
            " rmalization)                                                                                     \n",
            "                                                                                                  \n",
            " conv4_block2_add (Add)      (None, 32, 16, 1024)         0         ['conv4_block1_out[0][0]',    \n",
            "                                                                     'conv4_block2_3_bn[0][0]']   \n",
            "                                                                                                  \n",
            " conv4_block2_out (Activati  (None, 32, 16, 1024)         0         ['conv4_block2_add[0][0]']    \n",
            " on)                                                                                              \n",
            "                                                                                                  \n",
            " conv4_block3_1_conv (Conv2  (None, 32, 16, 256)          262400    ['conv4_block2_out[0][0]']    \n",
            " D)                                                                                               \n",
            "                                                                                                  \n",
            " conv4_block3_1_bn (BatchNo  (None, 32, 16, 256)          1024      ['conv4_block3_1_conv[0][0]'] \n",
            " rmalization)                                                                                     \n",
            "                                                                                                  \n",
            " conv4_block3_1_relu (Activ  (None, 32, 16, 256)          0         ['conv4_block3_1_bn[0][0]']   \n",
            " ation)                                                                                           \n",
            "                                                                                                  \n",
            " conv4_block3_2_conv (Conv2  (None, 32, 16, 256)          590080    ['conv4_block3_1_relu[0][0]'] \n",
            " D)                                                                                               \n",
            "                                                                                                  \n",
            " conv4_block3_2_bn (BatchNo  (None, 32, 16, 256)          1024      ['conv4_block3_2_conv[0][0]'] \n",
            " rmalization)                                                                                     \n",
            "                                                                                                  \n",
            " conv4_block3_2_relu (Activ  (None, 32, 16, 256)          0         ['conv4_block3_2_bn[0][0]']   \n",
            " ation)                                                                                           \n",
            "                                                                                                  \n",
            " conv4_block3_3_conv (Conv2  (None, 32, 16, 1024)         263168    ['conv4_block3_2_relu[0][0]'] \n",
            " D)                                                                                               \n",
            "                                                                                                  \n",
            " conv4_block3_3_bn (BatchNo  (None, 32, 16, 1024)         4096      ['conv4_block3_3_conv[0][0]'] \n",
            " rmalization)                                                                                     \n",
            "                                                                                                  \n",
            " conv4_block3_add (Add)      (None, 32, 16, 1024)         0         ['conv4_block2_out[0][0]',    \n",
            "                                                                     'conv4_block3_3_bn[0][0]']   \n",
            "                                                                                                  \n",
            " conv4_block3_out (Activati  (None, 32, 16, 1024)         0         ['conv4_block3_add[0][0]']    \n",
            " on)                                                                                              \n",
            "                                                                                                  \n",
            " conv4_block4_1_conv (Conv2  (None, 32, 16, 256)          262400    ['conv4_block3_out[0][0]']    \n",
            " D)                                                                                               \n",
            "                                                                                                  \n",
            " conv4_block4_1_bn (BatchNo  (None, 32, 16, 256)          1024      ['conv4_block4_1_conv[0][0]'] \n",
            " rmalization)                                                                                     \n",
            "                                                                                                  \n",
            " conv4_block4_1_relu (Activ  (None, 32, 16, 256)          0         ['conv4_block4_1_bn[0][0]']   \n",
            " ation)                                                                                           \n",
            "                                                                                                  \n",
            " conv4_block4_2_conv (Conv2  (None, 32, 16, 256)          590080    ['conv4_block4_1_relu[0][0]'] \n",
            " D)                                                                                               \n",
            "                                                                                                  \n",
            " conv4_block4_2_bn (BatchNo  (None, 32, 16, 256)          1024      ['conv4_block4_2_conv[0][0]'] \n",
            " rmalization)                                                                                     \n",
            "                                                                                                  \n",
            " conv4_block4_2_relu (Activ  (None, 32, 16, 256)          0         ['conv4_block4_2_bn[0][0]']   \n",
            " ation)                                                                                           \n",
            "                                                                                                  \n",
            " conv4_block4_3_conv (Conv2  (None, 32, 16, 1024)         263168    ['conv4_block4_2_relu[0][0]'] \n",
            " D)                                                                                               \n",
            "                                                                                                  \n",
            " conv4_block4_3_bn (BatchNo  (None, 32, 16, 1024)         4096      ['conv4_block4_3_conv[0][0]'] \n",
            " rmalization)                                                                                     \n",
            "                                                                                                  \n",
            " conv4_block4_add (Add)      (None, 32, 16, 1024)         0         ['conv4_block3_out[0][0]',    \n",
            "                                                                     'conv4_block4_3_bn[0][0]']   \n",
            "                                                                                                  \n",
            " conv4_block4_out (Activati  (None, 32, 16, 1024)         0         ['conv4_block4_add[0][0]']    \n",
            " on)                                                                                              \n",
            "                                                                                                  \n",
            " conv4_block5_1_conv (Conv2  (None, 32, 16, 256)          262400    ['conv4_block4_out[0][0]']    \n",
            " D)                                                                                               \n",
            "                                                                                                  \n",
            " conv4_block5_1_bn (BatchNo  (None, 32, 16, 256)          1024      ['conv4_block5_1_conv[0][0]'] \n",
            " rmalization)                                                                                     \n",
            "                                                                                                  \n",
            " conv4_block5_1_relu (Activ  (None, 32, 16, 256)          0         ['conv4_block5_1_bn[0][0]']   \n",
            " ation)                                                                                           \n",
            "                                                                                                  \n",
            " conv4_block5_2_conv (Conv2  (None, 32, 16, 256)          590080    ['conv4_block5_1_relu[0][0]'] \n",
            " D)                                                                                               \n",
            "                                                                                                  \n",
            " conv4_block5_2_bn (BatchNo  (None, 32, 16, 256)          1024      ['conv4_block5_2_conv[0][0]'] \n",
            " rmalization)                                                                                     \n",
            "                                                                                                  \n",
            " conv4_block5_2_relu (Activ  (None, 32, 16, 256)          0         ['conv4_block5_2_bn[0][0]']   \n",
            " ation)                                                                                           \n",
            "                                                                                                  \n",
            " conv4_block5_3_conv (Conv2  (None, 32, 16, 1024)         263168    ['conv4_block5_2_relu[0][0]'] \n",
            " D)                                                                                               \n",
            "                                                                                                  \n",
            " conv4_block5_3_bn (BatchNo  (None, 32, 16, 1024)         4096      ['conv4_block5_3_conv[0][0]'] \n",
            " rmalization)                                                                                     \n",
            "                                                                                                  \n",
            " conv4_block5_add (Add)      (None, 32, 16, 1024)         0         ['conv4_block4_out[0][0]',    \n",
            "                                                                     'conv4_block5_3_bn[0][0]']   \n",
            "                                                                                                  \n",
            " conv4_block5_out (Activati  (None, 32, 16, 1024)         0         ['conv4_block5_add[0][0]']    \n",
            " on)                                                                                              \n",
            "                                                                                                  \n",
            " average_pooling2d (Average  (None, 1, 1, 1024)           0         ['conv4_block5_out[0][0]']    \n",
            " Pooling2D)                                                                                       \n",
            "                                                                                                  \n",
            " conv2d (Conv2D)             (None, 1, 1, 256)            262144    ['average_pooling2d[0][0]']   \n",
            "                                                                                                  \n",
            " batch_normalization (Batch  (None, 1, 1, 256)            1024      ['conv2d[0][0]']              \n",
            " Normalization)                                                                                   \n",
            "                                                                                                  \n",
            " conv2d_1 (Conv2D)           (None, 32, 16, 256)          262144    ['conv4_block5_out[0][0]']    \n",
            "                                                                                                  \n",
            " conv2d_2 (Conv2D)           (None, 32, 16, 256)          2359296   ['conv4_block5_out[0][0]']    \n",
            "                                                                                                  \n",
            " conv2d_3 (Conv2D)           (None, 32, 16, 256)          2359296   ['conv4_block5_out[0][0]']    \n",
            "                                                                                                  \n",
            " conv2d_4 (Conv2D)           (None, 32, 16, 256)          2359296   ['conv4_block5_out[0][0]']    \n",
            "                                                                                                  \n",
            " activation (Activation)     (None, 1, 1, 256)            0         ['batch_normalization[0][0]'] \n",
            "                                                                                                  \n",
            " batch_normalization_1 (Bat  (None, 32, 16, 256)          1024      ['conv2d_1[0][0]']            \n",
            " chNormalization)                                                                                 \n",
            "                                                                                                  \n",
            " batch_normalization_2 (Bat  (None, 32, 16, 256)          1024      ['conv2d_2[0][0]']            \n",
            " chNormalization)                                                                                 \n",
            "                                                                                                  \n",
            " batch_normalization_3 (Bat  (None, 32, 16, 256)          1024      ['conv2d_3[0][0]']            \n",
            " chNormalization)                                                                                 \n",
            "                                                                                                  \n",
            " batch_normalization_4 (Bat  (None, 32, 16, 256)          1024      ['conv2d_4[0][0]']            \n",
            " chNormalization)                                                                                 \n",
            "                                                                                                  \n",
            " up_sampling2d (UpSampling2  (None, 32, 16, 256)          0         ['activation[0][0]']          \n",
            " D)                                                                                               \n",
            "                                                                                                  \n",
            " activation_1 (Activation)   (None, 32, 16, 256)          0         ['batch_normalization_1[0][0]'\n",
            "                                                                    ]                             \n",
            "                                                                                                  \n",
            " activation_2 (Activation)   (None, 32, 16, 256)          0         ['batch_normalization_2[0][0]'\n",
            "                                                                    ]                             \n",
            "                                                                                                  \n",
            " activation_3 (Activation)   (None, 32, 16, 256)          0         ['batch_normalization_3[0][0]'\n",
            "                                                                    ]                             \n",
            "                                                                                                  \n",
            " activation_4 (Activation)   (None, 32, 16, 256)          0         ['batch_normalization_4[0][0]'\n",
            "                                                                    ]                             \n",
            "                                                                                                  \n",
            " concatenate (Concatenate)   (None, 32, 16, 1280)         0         ['up_sampling2d[0][0]',       \n",
            "                                                                     'activation_1[0][0]',        \n",
            "                                                                     'activation_2[0][0]',        \n",
            "                                                                     'activation_3[0][0]',        \n",
            "                                                                     'activation_4[0][0]']        \n",
            "                                                                                                  \n",
            " conv2d_5 (Conv2D)           (None, 32, 16, 256)          327680    ['concatenate[0][0]']         \n",
            "                                                                                                  \n",
            " batch_normalization_5 (Bat  (None, 32, 16, 256)          1024      ['conv2d_5[0][0]']            \n",
            " chNormalization)                                                                                 \n",
            "                                                                                                  \n",
            " conv2d_6 (Conv2D)           (None, 128, 64, 48)          12288     ['conv2_block2_out[0][0]']    \n",
            "                                                                                                  \n",
            " activation_5 (Activation)   (None, 32, 16, 256)          0         ['batch_normalization_5[0][0]'\n",
            "                                                                    ]                             \n",
            "                                                                                                  \n",
            " batch_normalization_6 (Bat  (None, 128, 64, 48)          192       ['conv2d_6[0][0]']            \n",
            " chNormalization)                                                                                 \n",
            "                                                                                                  \n",
            " up_sampling2d_1 (UpSamplin  (None, 128, 64, 256)         0         ['activation_5[0][0]']        \n",
            " g2D)                                                                                             \n",
            "                                                                                                  \n",
            " activation_6 (Activation)   (None, 128, 64, 48)          0         ['batch_normalization_6[0][0]'\n",
            "                                                                    ]                             \n",
            "                                                                                                  \n",
            " concatenate_1 (Concatenate  (None, 128, 64, 304)         0         ['up_sampling2d_1[0][0]',     \n",
            " )                                                                   'activation_6[0][0]']        \n",
            "                                                                                                  \n",
            " global_average_pooling2d (  (None, 304)                  0         ['concatenate_1[0][0]']       \n",
            " GlobalAveragePooling2D)                                                                          \n",
            "                                                                                                  \n",
            " reshape (Reshape)           (None, 1, 1, 304)            0         ['global_average_pooling2d[0][\n",
            "                                                                    0]']                          \n",
            "                                                                                                  \n",
            " dense (Dense)               (None, 1, 1, 38)             11552     ['reshape[0][0]']             \n",
            "                                                                                                  \n",
            " dense_1 (Dense)             (None, 1, 1, 304)            11552     ['dense[0][0]']               \n",
            "                                                                                                  \n",
            " tf.math.multiply (TFOpLamb  (None, 128, 64, 304)         0         ['concatenate_1[0][0]',       \n",
            " da)                                                                 'dense_1[0][0]']             \n",
            "                                                                                                  \n",
            " conv2d_7 (Conv2D)           (None, 128, 64, 256)         700416    ['tf.math.multiply[0][0]']    \n",
            "                                                                                                  \n",
            " batch_normalization_7 (Bat  (None, 128, 64, 256)         1024      ['conv2d_7[0][0]']            \n",
            " chNormalization)                                                                                 \n",
            "                                                                                                  \n",
            " activation_7 (Activation)   (None, 128, 64, 256)         0         ['batch_normalization_7[0][0]'\n",
            "                                                                    ]                             \n",
            "                                                                                                  \n",
            " conv2d_8 (Conv2D)           (None, 128, 64, 256)         589824    ['activation_7[0][0]']        \n",
            "                                                                                                  \n",
            " batch_normalization_8 (Bat  (None, 128, 64, 256)         1024      ['conv2d_8[0][0]']            \n",
            " chNormalization)                                                                                 \n",
            "                                                                                                  \n",
            " activation_8 (Activation)   (None, 128, 64, 256)         0         ['batch_normalization_8[0][0]'\n",
            "                                                                    ]                             \n",
            "                                                                                                  \n",
            " global_average_pooling2d_1  (None, 256)                  0         ['activation_8[0][0]']        \n",
            "  (GlobalAveragePooling2D)                                                                        \n",
            "                                                                                                  \n",
            " reshape_1 (Reshape)         (None, 1, 1, 256)            0         ['global_average_pooling2d_1[0\n",
            "                                                                    ][0]']                        \n",
            "                                                                                                  \n",
            " dense_2 (Dense)             (None, 1, 1, 32)             8192      ['reshape_1[0][0]']           \n",
            "                                                                                                  \n",
            " dense_3 (Dense)             (None, 1, 1, 256)            8192      ['dense_2[0][0]']             \n",
            "                                                                                                  \n",
            " tf.math.multiply_1 (TFOpLa  (None, 128, 64, 256)         0         ['activation_8[0][0]',        \n",
            " mbda)                                                               'dense_3[0][0]']             \n",
            "                                                                                                  \n",
            " up_sampling2d_2 (UpSamplin  (None, 512, 256, 256)        0         ['tf.math.multiply_1[0][0]']  \n",
            " g2D)                                                                                             \n",
            "                                                                                                  \n",
            " conv2d_9 (Conv2D)           (None, 512, 256, 1)          257       ['up_sampling2d_2[0][0]']     \n",
            "                                                                                                  \n",
            " activation_9 (Activation)   (None, 512, 256, 1)          0         ['conv2d_9[0][0]']            \n",
            "                                                                                                  \n",
            "==================================================================================================\n",
            "Total params: 16747905 (63.89 MB)\n",
            "Trainable params: 16716193 (63.77 MB)\n",
            "Non-trainable params: 31712 (123.88 KB)\n",
            "__________________________________________________________________________________________________\n"
          ]
        }
      ]
    },
    {
      "cell_type": "code",
      "source": [
        "def iou(y_true, y_pred):\n",
        "    def f(y_true, y_pred):\n",
        "        intersection = (y_true * y_pred).sum()\n",
        "        union = y_true.sum() + y_pred.sum() - intersection\n",
        "        x = (intersection + 1e-15) / (union + 1e-15)\n",
        "        x = x.astype(np.float32)\n",
        "        return x\n",
        "    return tf.numpy_function(f, [y_true, y_pred], tf.float32)\n",
        "\n",
        "smooth = 1e-15\n",
        "def dice_coef(y_true, y_pred):\n",
        "    y_true = tf.keras.layers.Flatten()(y_true)\n",
        "    y_pred = tf.keras.layers.Flatten()(y_pred)\n",
        "    intersection = tf.reduce_sum(y_true * y_pred)\n",
        "    return (2. * intersection + smooth) / (tf.reduce_sum(y_true) + tf.reduce_sum(y_pred) + smooth)\n",
        "\n",
        "def dice_loss(y_true, y_pred):\n",
        "    return 1.0 - dice_coef(y_true , y_pred)"
      ],
      "metadata": {
        "id": "RVF819FF-Lbj"
      },
      "execution_count": 15,
      "outputs": []
    },
    {
      "cell_type": "code",
      "source": [
        "H = 512\n",
        "W = 256\n",
        "np.random.seed(42)\n",
        "tf.random.set_seed(42)"
      ],
      "metadata": {
        "id": "S3YjUIGjAyh8"
      },
      "execution_count": 16,
      "outputs": []
    },
    {
      "cell_type": "code",
      "source": [
        "def shuffling(x, y):\n",
        "    x, y = shuffle(x, y, random_state=42)\n",
        "    return x, y"
      ],
      "metadata": {
        "id": "E5OLaBQ-BCk2"
      },
      "execution_count": 17,
      "outputs": []
    },
    {
      "cell_type": "code",
      "source": [
        "create_dir(\"files\")"
      ],
      "metadata": {
        "id": "vuqPj6kJBQv6"
      },
      "execution_count": 18,
      "outputs": []
    },
    {
      "cell_type": "code",
      "source": [
        "def read_image(path):\n",
        "    path = path.decode()\n",
        "    x = cv2.imread(path, cv2.IMREAD_COLOR)\n",
        "    x = x / 255.\n",
        "    x = x.astype(np.float32)\n",
        "    return x"
      ],
      "metadata": {
        "id": "EEjdENlCBQpS"
      },
      "execution_count": 19,
      "outputs": []
    },
    {
      "cell_type": "code",
      "source": [
        "def read_mask(path):\n",
        "    path = path.decode()\n",
        "    x = cv2.imread(path, cv2.IMREAD_GRAYSCALE)\n",
        "    x = x / 255.\n",
        "    x = x.astype(np.float32)\n",
        "    x = np.expand_dims(x, axis=-1)\n",
        "    return x"
      ],
      "metadata": {
        "id": "AzeO43mjBQjg"
      },
      "execution_count": 20,
      "outputs": []
    },
    {
      "cell_type": "code",
      "source": [
        "def tf_parse(x, y):\n",
        "    def _parse(x, y):\n",
        "        x = read_image(x)\n",
        "        y = read_mask(y)\n",
        "        return x, y\n",
        "    x, y = tf.numpy_function(_parse, [x, y], [tf.float32, tf.float32])\n",
        "    x.set_shape([H, W, 3])\n",
        "    y.set_shape([H, W, 1])\n",
        "    return x, y"
      ],
      "metadata": {
        "id": "WBqHcbf0BQgf"
      },
      "execution_count": 21,
      "outputs": []
    },
    {
      "cell_type": "code",
      "source": [
        "def tf_dataset(X, Y, batch=2):\n",
        "    dataset = tf.data.Dataset.from_tensor_slices((X, Y))\n",
        "    dataset = dataset.map(tf_parse)\n",
        "    dataset = dataset.batch(batch)\n",
        "    dataset = dataset.prefetch(10)\n",
        "    return dataset"
      ],
      "metadata": {
        "id": "-R8p8O_rBQIq"
      },
      "execution_count": 22,
      "outputs": []
    },
    {
      "cell_type": "code",
      "source": [
        "# Hyperparameters\n",
        "batch_size = 2\n",
        "lr = 1e-4\n",
        "num_epochs = 40\n",
        "\n",
        "model_path = os.path.join(\"files\", \"model.h5\")\n",
        "csv_path = os.path.join(\"files\", \"data.csv\")\n",
        "\n",
        "dataset_path = 'new_data'\n",
        "train_path = os.path.join(dataset_path, 'train')\n",
        "valid_path = os.path.join(dataset_path, 'test')\n",
        "\n",
        "train_x = sorted(glob(os.path.join(train_path, 'original_images', '*jpeg')))\n",
        "train_y = sorted(glob(os.path.join(train_path, 'mask_images', '*jpeg' )))\n",
        "\n",
        "train_x, train_y = shuffling(train_x, train_y)\n",
        "\n",
        "valid_x = sorted(glob(os.path.join(valid_path, 'original_images', '*jpeg' )))\n",
        "valid_y = sorted(glob(os.path.join(valid_path,  'mask_images', '*jpeg' )))\n",
        "\n",
        "print(f\"Train: \\t{len(train_x)} - {len(train_y)}\")\n",
        "print(f\"Test: \\t{len(valid_x)} - {len(valid_y)}\")\n",
        "\n",
        "train_dataset = tf_dataset(train_x, train_y, batch=batch_size)\n",
        "valid_dataset = tf_dataset(valid_x, valid_y, batch=batch_size)\n",
        "\n",
        "# Model\n",
        "model  = deeplabv3_plus((H, W, 3))\n",
        "model.compile(loss=dice_loss, optimizer=Adam(lr), metrics=[dice_coef, iou, Recall(), Precision()])\n",
        "\n",
        "\n",
        "# Saving checkpoint\n",
        "callbacks = [\n",
        "    ModelCheckpoint(model_path, verbose=1, save_best_only=True),\n",
        "    ReduceLROnPlateau(monitor='val_loss', factor=0.1, patience=5, min_lr=1e-7, verbose=1),\n",
        "    CSVLogger(csv_path),\n",
        "    TensorBoard(),\n",
        "    EarlyStopping(monitor='val_loss', patience=20, restore_best_weights=False),\n",
        "]\n",
        "\n",
        "model.fit(\n",
        "    train_dataset,\n",
        "    epochs=num_epochs,\n",
        "    validation_data=valid_dataset,\n",
        "    callbacks=callbacks\n",
        ")"
      ],
      "metadata": {
        "colab": {
          "base_uri": "https://localhost:8080/",
          "height": 0
        },
        "id": "qkOer_ttJ060",
        "outputId": "03b988d2-ca43-4e71-d568-b83502de8c99"
      },
      "execution_count": 23,
      "outputs": [
        {
          "output_type": "stream",
          "name": "stdout",
          "text": [
            "Train: \t810 - 810\n",
            "Test: \t15 - 15\n",
            "Epoch 1/40\n",
            "405/405 [==============================] - ETA: 0s - loss: 0.3885 - dice_coef: 0.6115 - iou: 0.4473 - recall: 0.7894 - precision: 0.9215\n",
            "Epoch 1: val_loss improved from inf to 0.75079, saving model to files/model.h5\n"
          ]
        },
        {
          "output_type": "stream",
          "name": "stderr",
          "text": [
            "/usr/local/lib/python3.10/dist-packages/keras/src/engine/training.py:3000: UserWarning: You are saving your model as an HDF5 file via `model.save()`. This file format is considered legacy. We recommend using instead the native Keras format, e.g. `model.save('my_model.keras')`.\n",
            "  saving_api.save_model(\n"
          ]
        },
        {
          "output_type": "stream",
          "name": "stdout",
          "text": [
            "\b\b\b\b\b\b\b\b\b\b\b\b\b\b\b\b\b\b\b\b\b\b\b\b\b\b\b\b\b\b\b\b\b\b\b\b\b\b\b\b\b\b\b\b\b\b\b\b\b\b\b\b\b\b\b\b\b\b\b\b\b\b\b\b\b\b\b\b\b\b\b\b\b\b\b\b\b\b\b\b\b\b\b\b\b\b\b\b\b\b\b\b\b\b\b\b\b\b\b\b\b\b\b\b\b\b\b\b\b\b\b\b\b\b\b\b\b\b\b\b\b\b\b\b\b\b\b\b\b\b\b\b\b\b\b\b\r405/405 [==============================] - 99s 130ms/step - loss: 0.3885 - dice_coef: 0.6115 - iou: 0.4473 - recall: 0.7894 - precision: 0.9215 - val_loss: 0.7508 - val_dice_coef: 0.2462 - val_iou: 0.1414 - val_recall: 0.8506 - val_precision: 0.3465 - lr: 1.0000e-04\n",
            "Epoch 2/40\n",
            "405/405 [==============================] - ETA: 0s - loss: 0.3206 - dice_coef: 0.6794 - iou: 0.5177 - recall: 0.7875 - precision: 0.9937\n",
            "Epoch 2: val_loss improved from 0.75079 to 0.46549, saving model to files/model.h5\n",
            "405/405 [==============================] - 51s 125ms/step - loss: 0.3206 - dice_coef: 0.6794 - iou: 0.5177 - recall: 0.7875 - precision: 0.9937 - val_loss: 0.4655 - val_dice_coef: 0.5209 - val_iou: 0.3611 - val_recall: 0.4256 - val_precision: 0.9910 - lr: 1.0000e-04\n",
            "Epoch 3/40\n",
            "405/405 [==============================] - ETA: 0s - loss: 0.3105 - dice_coef: 0.6895 - iou: 0.5293 - recall: 0.7907 - precision: 0.9965\n",
            "Epoch 3: val_loss improved from 0.46549 to 0.34210, saving model to files/model.h5\n",
            "405/405 [==============================] - 51s 127ms/step - loss: 0.3105 - dice_coef: 0.6895 - iou: 0.5293 - recall: 0.7907 - precision: 0.9965 - val_loss: 0.3421 - val_dice_coef: 0.6521 - val_iou: 0.4856 - val_recall: 0.8026 - val_precision: 0.9736 - lr: 1.0000e-04\n",
            "Epoch 4/40\n",
            "405/405 [==============================] - ETA: 0s - loss: 0.3069 - dice_coef: 0.6931 - iou: 0.5334 - recall: 0.7901 - precision: 0.9976\n",
            "Epoch 4: val_loss improved from 0.34210 to 0.33846, saving model to files/model.h5\n",
            "405/405 [==============================] - 52s 129ms/step - loss: 0.3069 - dice_coef: 0.6931 - iou: 0.5334 - recall: 0.7901 - precision: 0.9976 - val_loss: 0.3385 - val_dice_coef: 0.6557 - val_iou: 0.4897 - val_recall: 0.7617 - val_precision: 0.9739 - lr: 1.0000e-04\n",
            "Epoch 5/40\n",
            "405/405 [==============================] - ETA: 0s - loss: 0.3044 - dice_coef: 0.6956 - iou: 0.5363 - recall: 0.7884 - precision: 0.9981\n",
            "Epoch 5: val_loss did not improve from 0.33846\n",
            "405/405 [==============================] - 51s 127ms/step - loss: 0.3044 - dice_coef: 0.6956 - iou: 0.5363 - recall: 0.7884 - precision: 0.9981 - val_loss: 0.3409 - val_dice_coef: 0.6535 - val_iou: 0.4875 - val_recall: 0.7590 - val_precision: 0.9652 - lr: 1.0000e-04\n",
            "Epoch 6/40\n",
            "405/405 [==============================] - ETA: 0s - loss: 0.3031 - dice_coef: 0.6969 - iou: 0.5379 - recall: 0.7868 - precision: 0.9984\n",
            "Epoch 6: val_loss improved from 0.33846 to 0.33818, saving model to files/model.h5\n",
            "405/405 [==============================] - 53s 130ms/step - loss: 0.3031 - dice_coef: 0.6969 - iou: 0.5379 - recall: 0.7868 - precision: 0.9984 - val_loss: 0.3382 - val_dice_coef: 0.6562 - val_iou: 0.4912 - val_recall: 0.7619 - val_precision: 0.9639 - lr: 1.0000e-04\n",
            "Epoch 7/40\n",
            "405/405 [==============================] - ETA: 0s - loss: 0.3035 - dice_coef: 0.6965 - iou: 0.5374 - recall: 0.7862 - precision: 0.9978\n",
            "Epoch 7: val_loss did not improve from 0.33818\n",
            "405/405 [==============================] - 51s 126ms/step - loss: 0.3035 - dice_coef: 0.6965 - iou: 0.5374 - recall: 0.7862 - precision: 0.9978 - val_loss: 0.4875 - val_dice_coef: 0.5118 - val_iou: 0.3525 - val_recall: 0.7565 - val_precision: 0.6392 - lr: 1.0000e-04\n",
            "Epoch 8/40\n",
            "405/405 [==============================] - ETA: 0s - loss: 0.3135 - dice_coef: 0.6865 - iou: 0.5260 - recall: 0.7727 - precision: 0.9914\n",
            "Epoch 8: val_loss improved from 0.33818 to 0.32159, saving model to files/model.h5\n",
            "405/405 [==============================] - 51s 127ms/step - loss: 0.3135 - dice_coef: 0.6865 - iou: 0.5260 - recall: 0.7727 - precision: 0.9914 - val_loss: 0.3216 - val_dice_coef: 0.6719 - val_iou: 0.5082 - val_recall: 0.7533 - val_precision: 0.9792 - lr: 1.0000e-04\n",
            "Epoch 9/40\n",
            "405/405 [==============================] - ETA: 0s - loss: 0.3039 - dice_coef: 0.6961 - iou: 0.5370 - recall: 0.7845 - precision: 0.9978\n",
            "Epoch 9: val_loss improved from 0.32159 to 0.31405, saving model to files/model.h5\n",
            "405/405 [==============================] - 52s 129ms/step - loss: 0.3039 - dice_coef: 0.6961 - iou: 0.5370 - recall: 0.7845 - precision: 0.9978 - val_loss: 0.3141 - val_dice_coef: 0.6785 - val_iou: 0.5166 - val_recall: 0.7186 - val_precision: 0.9927 - lr: 1.0000e-04\n",
            "Epoch 10/40\n",
            "405/405 [==============================] - ETA: 0s - loss: 0.3018 - dice_coef: 0.6982 - iou: 0.5394 - recall: 0.7858 - precision: 0.9986\n",
            "Epoch 10: val_loss did not improve from 0.31405\n",
            "405/405 [==============================] - 51s 127ms/step - loss: 0.3018 - dice_coef: 0.6982 - iou: 0.5394 - recall: 0.7858 - precision: 0.9986 - val_loss: 0.3179 - val_dice_coef: 0.6749 - val_iou: 0.5121 - val_recall: 0.7237 - val_precision: 0.9869 - lr: 1.0000e-04\n",
            "Epoch 11/40\n",
            "405/405 [==============================] - ETA: 0s - loss: 0.3011 - dice_coef: 0.6989 - iou: 0.5403 - recall: 0.7863 - precision: 0.9988\n",
            "Epoch 11: val_loss did not improve from 0.31405\n",
            "405/405 [==============================] - 51s 127ms/step - loss: 0.3011 - dice_coef: 0.6989 - iou: 0.5403 - recall: 0.7863 - precision: 0.9988 - val_loss: 0.3208 - val_dice_coef: 0.6724 - val_iou: 0.5090 - val_recall: 0.7281 - val_precision: 0.9828 - lr: 1.0000e-04\n",
            "Epoch 12/40\n",
            "405/405 [==============================] - ETA: 0s - loss: 0.3006 - dice_coef: 0.6994 - iou: 0.5408 - recall: 0.7862 - precision: 0.9989\n",
            "Epoch 12: val_loss did not improve from 0.31405\n",
            "405/405 [==============================] - 51s 127ms/step - loss: 0.3006 - dice_coef: 0.6994 - iou: 0.5408 - recall: 0.7862 - precision: 0.9989 - val_loss: 0.3161 - val_dice_coef: 0.6766 - val_iou: 0.5143 - val_recall: 0.7161 - val_precision: 0.9900 - lr: 1.0000e-04\n",
            "Epoch 13/40\n",
            "405/405 [==============================] - ETA: 0s - loss: 0.3004 - dice_coef: 0.6996 - iou: 0.5411 - recall: 0.7862 - precision: 0.9990\n",
            "Epoch 13: val_loss did not improve from 0.31405\n",
            "405/405 [==============================] - 51s 127ms/step - loss: 0.3004 - dice_coef: 0.6996 - iou: 0.5411 - recall: 0.7862 - precision: 0.9990 - val_loss: 0.3210 - val_dice_coef: 0.6725 - val_iou: 0.5090 - val_recall: 0.7361 - val_precision: 0.9833 - lr: 1.0000e-04\n",
            "Epoch 14/40\n",
            "405/405 [==============================] - ETA: 0s - loss: 0.3003 - dice_coef: 0.6997 - iou: 0.5411 - recall: 0.7860 - precision: 0.9989\n",
            "Epoch 14: val_loss did not improve from 0.31405\n",
            "\n",
            "Epoch 14: ReduceLROnPlateau reducing learning rate to 9.999999747378752e-06.\n",
            "405/405 [==============================] - 51s 126ms/step - loss: 0.3003 - dice_coef: 0.6997 - iou: 0.5411 - recall: 0.7860 - precision: 0.9989 - val_loss: 0.3203 - val_dice_coef: 0.6734 - val_iou: 0.5102 - val_recall: 0.7373 - val_precision: 0.9840 - lr: 1.0000e-04\n",
            "Epoch 15/40\n",
            "405/405 [==============================] - ETA: 0s - loss: 0.3000 - dice_coef: 0.7000 - iou: 0.5416 - recall: 0.7862 - precision: 0.9990\n",
            "Epoch 15: val_loss did not improve from 0.31405\n",
            "405/405 [==============================] - 51s 126ms/step - loss: 0.3000 - dice_coef: 0.7000 - iou: 0.5416 - recall: 0.7862 - precision: 0.9990 - val_loss: 0.3187 - val_dice_coef: 0.6748 - val_iou: 0.5119 - val_recall: 0.7341 - val_precision: 0.9856 - lr: 1.0000e-05\n",
            "Epoch 16/40\n",
            "405/405 [==============================] - ETA: 0s - loss: 0.2997 - dice_coef: 0.7003 - iou: 0.5419 - recall: 0.7866 - precision: 0.9992\n",
            "Epoch 16: val_loss did not improve from 0.31405\n",
            "405/405 [==============================] - 51s 126ms/step - loss: 0.2997 - dice_coef: 0.7003 - iou: 0.5419 - recall: 0.7866 - precision: 0.9992 - val_loss: 0.3192 - val_dice_coef: 0.6743 - val_iou: 0.5113 - val_recall: 0.7342 - val_precision: 0.9852 - lr: 1.0000e-05\n",
            "Epoch 17/40\n",
            "405/405 [==============================] - ETA: 0s - loss: 0.2996 - dice_coef: 0.7004 - iou: 0.5421 - recall: 0.7867 - precision: 0.9992\n",
            "Epoch 17: val_loss did not improve from 0.31405\n",
            "405/405 [==============================] - 52s 128ms/step - loss: 0.2996 - dice_coef: 0.7004 - iou: 0.5421 - recall: 0.7867 - precision: 0.9992 - val_loss: 0.3196 - val_dice_coef: 0.6740 - val_iou: 0.5108 - val_recall: 0.7350 - val_precision: 0.9850 - lr: 1.0000e-05\n",
            "Epoch 18/40\n",
            "405/405 [==============================] - ETA: 0s - loss: 0.2994 - dice_coef: 0.7006 - iou: 0.5422 - recall: 0.7867 - precision: 0.9993\n",
            "Epoch 18: val_loss did not improve from 0.31405\n",
            "405/405 [==============================] - 52s 127ms/step - loss: 0.2994 - dice_coef: 0.7006 - iou: 0.5422 - recall: 0.7867 - precision: 0.9993 - val_loss: 0.3199 - val_dice_coef: 0.6736 - val_iou: 0.5104 - val_recall: 0.7354 - val_precision: 0.9847 - lr: 1.0000e-05\n",
            "Epoch 19/40\n",
            "405/405 [==============================] - ETA: 0s - loss: 0.2993 - dice_coef: 0.7007 - iou: 0.5423 - recall: 0.7868 - precision: 0.9993\n",
            "Epoch 19: val_loss did not improve from 0.31405\n",
            "\n",
            "Epoch 19: ReduceLROnPlateau reducing learning rate to 9.999999747378752e-07.\n",
            "405/405 [==============================] - 51s 125ms/step - loss: 0.2993 - dice_coef: 0.7007 - iou: 0.5423 - recall: 0.7868 - precision: 0.9993 - val_loss: 0.3202 - val_dice_coef: 0.6733 - val_iou: 0.5100 - val_recall: 0.7357 - val_precision: 0.9844 - lr: 1.0000e-05\n",
            "Epoch 20/40\n",
            "405/405 [==============================] - ETA: 0s - loss: 0.2992 - dice_coef: 0.7008 - iou: 0.5424 - recall: 0.7870 - precision: 0.9994\n",
            "Epoch 20: val_loss did not improve from 0.31405\n",
            "405/405 [==============================] - 52s 128ms/step - loss: 0.2992 - dice_coef: 0.7008 - iou: 0.5424 - recall: 0.7870 - precision: 0.9994 - val_loss: 0.3202 - val_dice_coef: 0.6733 - val_iou: 0.5100 - val_recall: 0.7343 - val_precision: 0.9842 - lr: 1.0000e-06\n",
            "Epoch 21/40\n",
            "405/405 [==============================] - ETA: 0s - loss: 0.2992 - dice_coef: 0.7008 - iou: 0.5425 - recall: 0.7868 - precision: 0.9994\n",
            "Epoch 21: val_loss did not improve from 0.31405\n",
            "405/405 [==============================] - 52s 128ms/step - loss: 0.2992 - dice_coef: 0.7008 - iou: 0.5425 - recall: 0.7868 - precision: 0.9994 - val_loss: 0.3202 - val_dice_coef: 0.6733 - val_iou: 0.5100 - val_recall: 0.7341 - val_precision: 0.9842 - lr: 1.0000e-06\n",
            "Epoch 22/40\n",
            "405/405 [==============================] - ETA: 0s - loss: 0.2992 - dice_coef: 0.7008 - iou: 0.5425 - recall: 0.7869 - precision: 0.9994\n",
            "Epoch 22: val_loss did not improve from 0.31405\n",
            "405/405 [==============================] - 51s 126ms/step - loss: 0.2992 - dice_coef: 0.7008 - iou: 0.5425 - recall: 0.7869 - precision: 0.9994 - val_loss: 0.3202 - val_dice_coef: 0.6733 - val_iou: 0.5100 - val_recall: 0.7339 - val_precision: 0.9842 - lr: 1.0000e-06\n",
            "Epoch 23/40\n",
            "405/405 [==============================] - ETA: 0s - loss: 0.2992 - dice_coef: 0.7008 - iou: 0.5425 - recall: 0.7869 - precision: 0.9994\n",
            "Epoch 23: val_loss did not improve from 0.31405\n",
            "405/405 [==============================] - 51s 127ms/step - loss: 0.2992 - dice_coef: 0.7008 - iou: 0.5425 - recall: 0.7869 - precision: 0.9994 - val_loss: 0.3202 - val_dice_coef: 0.6733 - val_iou: 0.5101 - val_recall: 0.7339 - val_precision: 0.9843 - lr: 1.0000e-06\n",
            "Epoch 24/40\n",
            "405/405 [==============================] - ETA: 0s - loss: 0.2992 - dice_coef: 0.7008 - iou: 0.5425 - recall: 0.7869 - precision: 0.9994\n",
            "Epoch 24: val_loss did not improve from 0.31405\n",
            "\n",
            "Epoch 24: ReduceLROnPlateau reducing learning rate to 1e-07.\n",
            "405/405 [==============================] - 51s 126ms/step - loss: 0.2992 - dice_coef: 0.7008 - iou: 0.5425 - recall: 0.7869 - precision: 0.9994 - val_loss: 0.3201 - val_dice_coef: 0.6734 - val_iou: 0.5101 - val_recall: 0.7339 - val_precision: 0.9843 - lr: 1.0000e-06\n",
            "Epoch 25/40\n",
            "405/405 [==============================] - ETA: 0s - loss: 0.2992 - dice_coef: 0.7008 - iou: 0.5425 - recall: 0.7864 - precision: 0.9994\n",
            "Epoch 25: val_loss did not improve from 0.31405\n",
            "405/405 [==============================] - 52s 128ms/step - loss: 0.2992 - dice_coef: 0.7008 - iou: 0.5425 - recall: 0.7864 - precision: 0.9994 - val_loss: 0.3201 - val_dice_coef: 0.6734 - val_iou: 0.5101 - val_recall: 0.7345 - val_precision: 0.9843 - lr: 1.0000e-07\n",
            "Epoch 26/40\n",
            "405/405 [==============================] - ETA: 0s - loss: 0.2991 - dice_coef: 0.7009 - iou: 0.5425 - recall: 0.7868 - precision: 0.9994\n",
            "Epoch 26: val_loss did not improve from 0.31405\n",
            "405/405 [==============================] - 51s 126ms/step - loss: 0.2991 - dice_coef: 0.7009 - iou: 0.5425 - recall: 0.7868 - precision: 0.9994 - val_loss: 0.3202 - val_dice_coef: 0.6734 - val_iou: 0.5101 - val_recall: 0.7347 - val_precision: 0.9843 - lr: 1.0000e-07\n",
            "Epoch 27/40\n",
            "405/405 [==============================] - ETA: 0s - loss: 0.2991 - dice_coef: 0.7009 - iou: 0.5425 - recall: 0.7868 - precision: 0.9994\n",
            "Epoch 27: val_loss did not improve from 0.31405\n",
            "405/405 [==============================] - 52s 129ms/step - loss: 0.2991 - dice_coef: 0.7009 - iou: 0.5425 - recall: 0.7868 - precision: 0.9994 - val_loss: 0.3201 - val_dice_coef: 0.6734 - val_iou: 0.5101 - val_recall: 0.7347 - val_precision: 0.9843 - lr: 1.0000e-07\n",
            "Epoch 28/40\n",
            "405/405 [==============================] - ETA: 0s - loss: 0.2991 - dice_coef: 0.7009 - iou: 0.5425 - recall: 0.7868 - precision: 0.9994\n",
            "Epoch 28: val_loss did not improve from 0.31405\n",
            "405/405 [==============================] - 51s 126ms/step - loss: 0.2991 - dice_coef: 0.7009 - iou: 0.5425 - recall: 0.7868 - precision: 0.9994 - val_loss: 0.3201 - val_dice_coef: 0.6734 - val_iou: 0.5101 - val_recall: 0.7347 - val_precision: 0.9843 - lr: 1.0000e-07\n",
            "Epoch 29/40\n",
            "405/405 [==============================] - ETA: 0s - loss: 0.2991 - dice_coef: 0.7009 - iou: 0.5425 - recall: 0.7868 - precision: 0.9994\n",
            "Epoch 29: val_loss did not improve from 0.31405\n",
            "405/405 [==============================] - 51s 127ms/step - loss: 0.2991 - dice_coef: 0.7009 - iou: 0.5425 - recall: 0.7868 - precision: 0.9994 - val_loss: 0.3201 - val_dice_coef: 0.6734 - val_iou: 0.5101 - val_recall: 0.7347 - val_precision: 0.9843 - lr: 1.0000e-07\n"
          ]
        },
        {
          "output_type": "execute_result",
          "data": {
            "text/plain": [
              "<keras.src.callbacks.History at 0x7b26fb97f940>"
            ]
          },
          "metadata": {},
          "execution_count": 23
        }
      ]
    },
    {
      "cell_type": "code",
      "source": [
        " np.random.seed(42)\n",
        " tf.random.set_seed(42)\n",
        "\n",
        " # Directory for storing files\n",
        " create_dir('results')\n",
        "\n",
        " # Load the model\n",
        " with CustomObjectScope({'iou' : iou, 'dice_coef' : dice_coef, 'dice_loss' : dice_loss}):\n",
        "    model = tf.keras.models.load_model('files/model.h5')\n",
        "    model.summary()"
      ],
      "metadata": {
        "id": "2dOV_hbLJ09g",
        "colab": {
          "base_uri": "https://localhost:8080/",
          "height": 0
        },
        "outputId": "fcf0f5d0-4e98-4304-bf82-55d66c86d76c"
      },
      "execution_count": 24,
      "outputs": [
        {
          "output_type": "stream",
          "name": "stdout",
          "text": [
            "Model: \"model_1\"\n",
            "__________________________________________________________________________________________________\n",
            " Layer (type)                Output Shape                 Param #   Connected to                  \n",
            "==================================================================================================\n",
            " input_2 (InputLayer)        [(None, 512, 256, 3)]        0         []                            \n",
            "                                                                                                  \n",
            " conv1_pad (ZeroPadding2D)   (None, 518, 262, 3)          0         ['input_2[0][0]']             \n",
            "                                                                                                  \n",
            " conv1_conv (Conv2D)         (None, 256, 128, 64)         9472      ['conv1_pad[0][0]']           \n",
            "                                                                                                  \n",
            " conv1_bn (BatchNormalizati  (None, 256, 128, 64)         256       ['conv1_conv[0][0]']          \n",
            " on)                                                                                              \n",
            "                                                                                                  \n",
            " conv1_relu (Activation)     (None, 256, 128, 64)         0         ['conv1_bn[0][0]']            \n",
            "                                                                                                  \n",
            " pool1_pad (ZeroPadding2D)   (None, 258, 130, 64)         0         ['conv1_relu[0][0]']          \n",
            "                                                                                                  \n",
            " pool1_pool (MaxPooling2D)   (None, 128, 64, 64)          0         ['pool1_pad[0][0]']           \n",
            "                                                                                                  \n",
            " conv2_block1_1_conv (Conv2  (None, 128, 64, 64)          4160      ['pool1_pool[0][0]']          \n",
            " D)                                                                                               \n",
            "                                                                                                  \n",
            " conv2_block1_1_bn (BatchNo  (None, 128, 64, 64)          256       ['conv2_block1_1_conv[0][0]'] \n",
            " rmalization)                                                                                     \n",
            "                                                                                                  \n",
            " conv2_block1_1_relu (Activ  (None, 128, 64, 64)          0         ['conv2_block1_1_bn[0][0]']   \n",
            " ation)                                                                                           \n",
            "                                                                                                  \n",
            " conv2_block1_2_conv (Conv2  (None, 128, 64, 64)          36928     ['conv2_block1_1_relu[0][0]'] \n",
            " D)                                                                                               \n",
            "                                                                                                  \n",
            " conv2_block1_2_bn (BatchNo  (None, 128, 64, 64)          256       ['conv2_block1_2_conv[0][0]'] \n",
            " rmalization)                                                                                     \n",
            "                                                                                                  \n",
            " conv2_block1_2_relu (Activ  (None, 128, 64, 64)          0         ['conv2_block1_2_bn[0][0]']   \n",
            " ation)                                                                                           \n",
            "                                                                                                  \n",
            " conv2_block1_0_conv (Conv2  (None, 128, 64, 256)         16640     ['pool1_pool[0][0]']          \n",
            " D)                                                                                               \n",
            "                                                                                                  \n",
            " conv2_block1_3_conv (Conv2  (None, 128, 64, 256)         16640     ['conv2_block1_2_relu[0][0]'] \n",
            " D)                                                                                               \n",
            "                                                                                                  \n",
            " conv2_block1_0_bn (BatchNo  (None, 128, 64, 256)         1024      ['conv2_block1_0_conv[0][0]'] \n",
            " rmalization)                                                                                     \n",
            "                                                                                                  \n",
            " conv2_block1_3_bn (BatchNo  (None, 128, 64, 256)         1024      ['conv2_block1_3_conv[0][0]'] \n",
            " rmalization)                                                                                     \n",
            "                                                                                                  \n",
            " conv2_block1_add (Add)      (None, 128, 64, 256)         0         ['conv2_block1_0_bn[0][0]',   \n",
            "                                                                     'conv2_block1_3_bn[0][0]']   \n",
            "                                                                                                  \n",
            " conv2_block1_out (Activati  (None, 128, 64, 256)         0         ['conv2_block1_add[0][0]']    \n",
            " on)                                                                                              \n",
            "                                                                                                  \n",
            " conv2_block2_1_conv (Conv2  (None, 128, 64, 64)          16448     ['conv2_block1_out[0][0]']    \n",
            " D)                                                                                               \n",
            "                                                                                                  \n",
            " conv2_block2_1_bn (BatchNo  (None, 128, 64, 64)          256       ['conv2_block2_1_conv[0][0]'] \n",
            " rmalization)                                                                                     \n",
            "                                                                                                  \n",
            " conv2_block2_1_relu (Activ  (None, 128, 64, 64)          0         ['conv2_block2_1_bn[0][0]']   \n",
            " ation)                                                                                           \n",
            "                                                                                                  \n",
            " conv2_block2_2_conv (Conv2  (None, 128, 64, 64)          36928     ['conv2_block2_1_relu[0][0]'] \n",
            " D)                                                                                               \n",
            "                                                                                                  \n",
            " conv2_block2_2_bn (BatchNo  (None, 128, 64, 64)          256       ['conv2_block2_2_conv[0][0]'] \n",
            " rmalization)                                                                                     \n",
            "                                                                                                  \n",
            " conv2_block2_2_relu (Activ  (None, 128, 64, 64)          0         ['conv2_block2_2_bn[0][0]']   \n",
            " ation)                                                                                           \n",
            "                                                                                                  \n",
            " conv2_block2_3_conv (Conv2  (None, 128, 64, 256)         16640     ['conv2_block2_2_relu[0][0]'] \n",
            " D)                                                                                               \n",
            "                                                                                                  \n",
            " conv2_block2_3_bn (BatchNo  (None, 128, 64, 256)         1024      ['conv2_block2_3_conv[0][0]'] \n",
            " rmalization)                                                                                     \n",
            "                                                                                                  \n",
            " conv2_block2_add (Add)      (None, 128, 64, 256)         0         ['conv2_block1_out[0][0]',    \n",
            "                                                                     'conv2_block2_3_bn[0][0]']   \n",
            "                                                                                                  \n",
            " conv2_block2_out (Activati  (None, 128, 64, 256)         0         ['conv2_block2_add[0][0]']    \n",
            " on)                                                                                              \n",
            "                                                                                                  \n",
            " conv2_block3_1_conv (Conv2  (None, 128, 64, 64)          16448     ['conv2_block2_out[0][0]']    \n",
            " D)                                                                                               \n",
            "                                                                                                  \n",
            " conv2_block3_1_bn (BatchNo  (None, 128, 64, 64)          256       ['conv2_block3_1_conv[0][0]'] \n",
            " rmalization)                                                                                     \n",
            "                                                                                                  \n",
            " conv2_block3_1_relu (Activ  (None, 128, 64, 64)          0         ['conv2_block3_1_bn[0][0]']   \n",
            " ation)                                                                                           \n",
            "                                                                                                  \n",
            " conv2_block3_2_conv (Conv2  (None, 128, 64, 64)          36928     ['conv2_block3_1_relu[0][0]'] \n",
            " D)                                                                                               \n",
            "                                                                                                  \n",
            " conv2_block3_2_bn (BatchNo  (None, 128, 64, 64)          256       ['conv2_block3_2_conv[0][0]'] \n",
            " rmalization)                                                                                     \n",
            "                                                                                                  \n",
            " conv2_block3_2_relu (Activ  (None, 128, 64, 64)          0         ['conv2_block3_2_bn[0][0]']   \n",
            " ation)                                                                                           \n",
            "                                                                                                  \n",
            " conv2_block3_3_conv (Conv2  (None, 128, 64, 256)         16640     ['conv2_block3_2_relu[0][0]'] \n",
            " D)                                                                                               \n",
            "                                                                                                  \n",
            " conv2_block3_3_bn (BatchNo  (None, 128, 64, 256)         1024      ['conv2_block3_3_conv[0][0]'] \n",
            " rmalization)                                                                                     \n",
            "                                                                                                  \n",
            " conv2_block3_add (Add)      (None, 128, 64, 256)         0         ['conv2_block2_out[0][0]',    \n",
            "                                                                     'conv2_block3_3_bn[0][0]']   \n",
            "                                                                                                  \n",
            " conv2_block3_out (Activati  (None, 128, 64, 256)         0         ['conv2_block3_add[0][0]']    \n",
            " on)                                                                                              \n",
            "                                                                                                  \n",
            " conv3_block1_1_conv (Conv2  (None, 64, 32, 128)          32896     ['conv2_block3_out[0][0]']    \n",
            " D)                                                                                               \n",
            "                                                                                                  \n",
            " conv3_block1_1_bn (BatchNo  (None, 64, 32, 128)          512       ['conv3_block1_1_conv[0][0]'] \n",
            " rmalization)                                                                                     \n",
            "                                                                                                  \n",
            " conv3_block1_1_relu (Activ  (None, 64, 32, 128)          0         ['conv3_block1_1_bn[0][0]']   \n",
            " ation)                                                                                           \n",
            "                                                                                                  \n",
            " conv3_block1_2_conv (Conv2  (None, 64, 32, 128)          147584    ['conv3_block1_1_relu[0][0]'] \n",
            " D)                                                                                               \n",
            "                                                                                                  \n",
            " conv3_block1_2_bn (BatchNo  (None, 64, 32, 128)          512       ['conv3_block1_2_conv[0][0]'] \n",
            " rmalization)                                                                                     \n",
            "                                                                                                  \n",
            " conv3_block1_2_relu (Activ  (None, 64, 32, 128)          0         ['conv3_block1_2_bn[0][0]']   \n",
            " ation)                                                                                           \n",
            "                                                                                                  \n",
            " conv3_block1_0_conv (Conv2  (None, 64, 32, 512)          131584    ['conv2_block3_out[0][0]']    \n",
            " D)                                                                                               \n",
            "                                                                                                  \n",
            " conv3_block1_3_conv (Conv2  (None, 64, 32, 512)          66048     ['conv3_block1_2_relu[0][0]'] \n",
            " D)                                                                                               \n",
            "                                                                                                  \n",
            " conv3_block1_0_bn (BatchNo  (None, 64, 32, 512)          2048      ['conv3_block1_0_conv[0][0]'] \n",
            " rmalization)                                                                                     \n",
            "                                                                                                  \n",
            " conv3_block1_3_bn (BatchNo  (None, 64, 32, 512)          2048      ['conv3_block1_3_conv[0][0]'] \n",
            " rmalization)                                                                                     \n",
            "                                                                                                  \n",
            " conv3_block1_add (Add)      (None, 64, 32, 512)          0         ['conv3_block1_0_bn[0][0]',   \n",
            "                                                                     'conv3_block1_3_bn[0][0]']   \n",
            "                                                                                                  \n",
            " conv3_block1_out (Activati  (None, 64, 32, 512)          0         ['conv3_block1_add[0][0]']    \n",
            " on)                                                                                              \n",
            "                                                                                                  \n",
            " conv3_block2_1_conv (Conv2  (None, 64, 32, 128)          65664     ['conv3_block1_out[0][0]']    \n",
            " D)                                                                                               \n",
            "                                                                                                  \n",
            " conv3_block2_1_bn (BatchNo  (None, 64, 32, 128)          512       ['conv3_block2_1_conv[0][0]'] \n",
            " rmalization)                                                                                     \n",
            "                                                                                                  \n",
            " conv3_block2_1_relu (Activ  (None, 64, 32, 128)          0         ['conv3_block2_1_bn[0][0]']   \n",
            " ation)                                                                                           \n",
            "                                                                                                  \n",
            " conv3_block2_2_conv (Conv2  (None, 64, 32, 128)          147584    ['conv3_block2_1_relu[0][0]'] \n",
            " D)                                                                                               \n",
            "                                                                                                  \n",
            " conv3_block2_2_bn (BatchNo  (None, 64, 32, 128)          512       ['conv3_block2_2_conv[0][0]'] \n",
            " rmalization)                                                                                     \n",
            "                                                                                                  \n",
            " conv3_block2_2_relu (Activ  (None, 64, 32, 128)          0         ['conv3_block2_2_bn[0][0]']   \n",
            " ation)                                                                                           \n",
            "                                                                                                  \n",
            " conv3_block2_3_conv (Conv2  (None, 64, 32, 512)          66048     ['conv3_block2_2_relu[0][0]'] \n",
            " D)                                                                                               \n",
            "                                                                                                  \n",
            " conv3_block2_3_bn (BatchNo  (None, 64, 32, 512)          2048      ['conv3_block2_3_conv[0][0]'] \n",
            " rmalization)                                                                                     \n",
            "                                                                                                  \n",
            " conv3_block2_add (Add)      (None, 64, 32, 512)          0         ['conv3_block1_out[0][0]',    \n",
            "                                                                     'conv3_block2_3_bn[0][0]']   \n",
            "                                                                                                  \n",
            " conv3_block2_out (Activati  (None, 64, 32, 512)          0         ['conv3_block2_add[0][0]']    \n",
            " on)                                                                                              \n",
            "                                                                                                  \n",
            " conv3_block3_1_conv (Conv2  (None, 64, 32, 128)          65664     ['conv3_block2_out[0][0]']    \n",
            " D)                                                                                               \n",
            "                                                                                                  \n",
            " conv3_block3_1_bn (BatchNo  (None, 64, 32, 128)          512       ['conv3_block3_1_conv[0][0]'] \n",
            " rmalization)                                                                                     \n",
            "                                                                                                  \n",
            " conv3_block3_1_relu (Activ  (None, 64, 32, 128)          0         ['conv3_block3_1_bn[0][0]']   \n",
            " ation)                                                                                           \n",
            "                                                                                                  \n",
            " conv3_block3_2_conv (Conv2  (None, 64, 32, 128)          147584    ['conv3_block3_1_relu[0][0]'] \n",
            " D)                                                                                               \n",
            "                                                                                                  \n",
            " conv3_block3_2_bn (BatchNo  (None, 64, 32, 128)          512       ['conv3_block3_2_conv[0][0]'] \n",
            " rmalization)                                                                                     \n",
            "                                                                                                  \n",
            " conv3_block3_2_relu (Activ  (None, 64, 32, 128)          0         ['conv3_block3_2_bn[0][0]']   \n",
            " ation)                                                                                           \n",
            "                                                                                                  \n",
            " conv3_block3_3_conv (Conv2  (None, 64, 32, 512)          66048     ['conv3_block3_2_relu[0][0]'] \n",
            " D)                                                                                               \n",
            "                                                                                                  \n",
            " conv3_block3_3_bn (BatchNo  (None, 64, 32, 512)          2048      ['conv3_block3_3_conv[0][0]'] \n",
            " rmalization)                                                                                     \n",
            "                                                                                                  \n",
            " conv3_block3_add (Add)      (None, 64, 32, 512)          0         ['conv3_block2_out[0][0]',    \n",
            "                                                                     'conv3_block3_3_bn[0][0]']   \n",
            "                                                                                                  \n",
            " conv3_block3_out (Activati  (None, 64, 32, 512)          0         ['conv3_block3_add[0][0]']    \n",
            " on)                                                                                              \n",
            "                                                                                                  \n",
            " conv3_block4_1_conv (Conv2  (None, 64, 32, 128)          65664     ['conv3_block3_out[0][0]']    \n",
            " D)                                                                                               \n",
            "                                                                                                  \n",
            " conv3_block4_1_bn (BatchNo  (None, 64, 32, 128)          512       ['conv3_block4_1_conv[0][0]'] \n",
            " rmalization)                                                                                     \n",
            "                                                                                                  \n",
            " conv3_block4_1_relu (Activ  (None, 64, 32, 128)          0         ['conv3_block4_1_bn[0][0]']   \n",
            " ation)                                                                                           \n",
            "                                                                                                  \n",
            " conv3_block4_2_conv (Conv2  (None, 64, 32, 128)          147584    ['conv3_block4_1_relu[0][0]'] \n",
            " D)                                                                                               \n",
            "                                                                                                  \n",
            " conv3_block4_2_bn (BatchNo  (None, 64, 32, 128)          512       ['conv3_block4_2_conv[0][0]'] \n",
            " rmalization)                                                                                     \n",
            "                                                                                                  \n",
            " conv3_block4_2_relu (Activ  (None, 64, 32, 128)          0         ['conv3_block4_2_bn[0][0]']   \n",
            " ation)                                                                                           \n",
            "                                                                                                  \n",
            " conv3_block4_3_conv (Conv2  (None, 64, 32, 512)          66048     ['conv3_block4_2_relu[0][0]'] \n",
            " D)                                                                                               \n",
            "                                                                                                  \n",
            " conv3_block4_3_bn (BatchNo  (None, 64, 32, 512)          2048      ['conv3_block4_3_conv[0][0]'] \n",
            " rmalization)                                                                                     \n",
            "                                                                                                  \n",
            " conv3_block4_add (Add)      (None, 64, 32, 512)          0         ['conv3_block3_out[0][0]',    \n",
            "                                                                     'conv3_block4_3_bn[0][0]']   \n",
            "                                                                                                  \n",
            " conv3_block4_out (Activati  (None, 64, 32, 512)          0         ['conv3_block4_add[0][0]']    \n",
            " on)                                                                                              \n",
            "                                                                                                  \n",
            " conv4_block1_1_conv (Conv2  (None, 32, 16, 256)          131328    ['conv3_block4_out[0][0]']    \n",
            " D)                                                                                               \n",
            "                                                                                                  \n",
            " conv4_block1_1_bn (BatchNo  (None, 32, 16, 256)          1024      ['conv4_block1_1_conv[0][0]'] \n",
            " rmalization)                                                                                     \n",
            "                                                                                                  \n",
            " conv4_block1_1_relu (Activ  (None, 32, 16, 256)          0         ['conv4_block1_1_bn[0][0]']   \n",
            " ation)                                                                                           \n",
            "                                                                                                  \n",
            " conv4_block1_2_conv (Conv2  (None, 32, 16, 256)          590080    ['conv4_block1_1_relu[0][0]'] \n",
            " D)                                                                                               \n",
            "                                                                                                  \n",
            " conv4_block1_2_bn (BatchNo  (None, 32, 16, 256)          1024      ['conv4_block1_2_conv[0][0]'] \n",
            " rmalization)                                                                                     \n",
            "                                                                                                  \n",
            " conv4_block1_2_relu (Activ  (None, 32, 16, 256)          0         ['conv4_block1_2_bn[0][0]']   \n",
            " ation)                                                                                           \n",
            "                                                                                                  \n",
            " conv4_block1_0_conv (Conv2  (None, 32, 16, 1024)         525312    ['conv3_block4_out[0][0]']    \n",
            " D)                                                                                               \n",
            "                                                                                                  \n",
            " conv4_block1_3_conv (Conv2  (None, 32, 16, 1024)         263168    ['conv4_block1_2_relu[0][0]'] \n",
            " D)                                                                                               \n",
            "                                                                                                  \n",
            " conv4_block1_0_bn (BatchNo  (None, 32, 16, 1024)         4096      ['conv4_block1_0_conv[0][0]'] \n",
            " rmalization)                                                                                     \n",
            "                                                                                                  \n",
            " conv4_block1_3_bn (BatchNo  (None, 32, 16, 1024)         4096      ['conv4_block1_3_conv[0][0]'] \n",
            " rmalization)                                                                                     \n",
            "                                                                                                  \n",
            " conv4_block1_add (Add)      (None, 32, 16, 1024)         0         ['conv4_block1_0_bn[0][0]',   \n",
            "                                                                     'conv4_block1_3_bn[0][0]']   \n",
            "                                                                                                  \n",
            " conv4_block1_out (Activati  (None, 32, 16, 1024)         0         ['conv4_block1_add[0][0]']    \n",
            " on)                                                                                              \n",
            "                                                                                                  \n",
            " conv4_block2_1_conv (Conv2  (None, 32, 16, 256)          262400    ['conv4_block1_out[0][0]']    \n",
            " D)                                                                                               \n",
            "                                                                                                  \n",
            " conv4_block2_1_bn (BatchNo  (None, 32, 16, 256)          1024      ['conv4_block2_1_conv[0][0]'] \n",
            " rmalization)                                                                                     \n",
            "                                                                                                  \n",
            " conv4_block2_1_relu (Activ  (None, 32, 16, 256)          0         ['conv4_block2_1_bn[0][0]']   \n",
            " ation)                                                                                           \n",
            "                                                                                                  \n",
            " conv4_block2_2_conv (Conv2  (None, 32, 16, 256)          590080    ['conv4_block2_1_relu[0][0]'] \n",
            " D)                                                                                               \n",
            "                                                                                                  \n",
            " conv4_block2_2_bn (BatchNo  (None, 32, 16, 256)          1024      ['conv4_block2_2_conv[0][0]'] \n",
            " rmalization)                                                                                     \n",
            "                                                                                                  \n",
            " conv4_block2_2_relu (Activ  (None, 32, 16, 256)          0         ['conv4_block2_2_bn[0][0]']   \n",
            " ation)                                                                                           \n",
            "                                                                                                  \n",
            " conv4_block2_3_conv (Conv2  (None, 32, 16, 1024)         263168    ['conv4_block2_2_relu[0][0]'] \n",
            " D)                                                                                               \n",
            "                                                                                                  \n",
            " conv4_block2_3_bn (BatchNo  (None, 32, 16, 1024)         4096      ['conv4_block2_3_conv[0][0]'] \n",
            " rmalization)                                                                                     \n",
            "                                                                                                  \n",
            " conv4_block2_add (Add)      (None, 32, 16, 1024)         0         ['conv4_block1_out[0][0]',    \n",
            "                                                                     'conv4_block2_3_bn[0][0]']   \n",
            "                                                                                                  \n",
            " conv4_block2_out (Activati  (None, 32, 16, 1024)         0         ['conv4_block2_add[0][0]']    \n",
            " on)                                                                                              \n",
            "                                                                                                  \n",
            " conv4_block3_1_conv (Conv2  (None, 32, 16, 256)          262400    ['conv4_block2_out[0][0]']    \n",
            " D)                                                                                               \n",
            "                                                                                                  \n",
            " conv4_block3_1_bn (BatchNo  (None, 32, 16, 256)          1024      ['conv4_block3_1_conv[0][0]'] \n",
            " rmalization)                                                                                     \n",
            "                                                                                                  \n",
            " conv4_block3_1_relu (Activ  (None, 32, 16, 256)          0         ['conv4_block3_1_bn[0][0]']   \n",
            " ation)                                                                                           \n",
            "                                                                                                  \n",
            " conv4_block3_2_conv (Conv2  (None, 32, 16, 256)          590080    ['conv4_block3_1_relu[0][0]'] \n",
            " D)                                                                                               \n",
            "                                                                                                  \n",
            " conv4_block3_2_bn (BatchNo  (None, 32, 16, 256)          1024      ['conv4_block3_2_conv[0][0]'] \n",
            " rmalization)                                                                                     \n",
            "                                                                                                  \n",
            " conv4_block3_2_relu (Activ  (None, 32, 16, 256)          0         ['conv4_block3_2_bn[0][0]']   \n",
            " ation)                                                                                           \n",
            "                                                                                                  \n",
            " conv4_block3_3_conv (Conv2  (None, 32, 16, 1024)         263168    ['conv4_block3_2_relu[0][0]'] \n",
            " D)                                                                                               \n",
            "                                                                                                  \n",
            " conv4_block3_3_bn (BatchNo  (None, 32, 16, 1024)         4096      ['conv4_block3_3_conv[0][0]'] \n",
            " rmalization)                                                                                     \n",
            "                                                                                                  \n",
            " conv4_block3_add (Add)      (None, 32, 16, 1024)         0         ['conv4_block2_out[0][0]',    \n",
            "                                                                     'conv4_block3_3_bn[0][0]']   \n",
            "                                                                                                  \n",
            " conv4_block3_out (Activati  (None, 32, 16, 1024)         0         ['conv4_block3_add[0][0]']    \n",
            " on)                                                                                              \n",
            "                                                                                                  \n",
            " conv4_block4_1_conv (Conv2  (None, 32, 16, 256)          262400    ['conv4_block3_out[0][0]']    \n",
            " D)                                                                                               \n",
            "                                                                                                  \n",
            " conv4_block4_1_bn (BatchNo  (None, 32, 16, 256)          1024      ['conv4_block4_1_conv[0][0]'] \n",
            " rmalization)                                                                                     \n",
            "                                                                                                  \n",
            " conv4_block4_1_relu (Activ  (None, 32, 16, 256)          0         ['conv4_block4_1_bn[0][0]']   \n",
            " ation)                                                                                           \n",
            "                                                                                                  \n",
            " conv4_block4_2_conv (Conv2  (None, 32, 16, 256)          590080    ['conv4_block4_1_relu[0][0]'] \n",
            " D)                                                                                               \n",
            "                                                                                                  \n",
            " conv4_block4_2_bn (BatchNo  (None, 32, 16, 256)          1024      ['conv4_block4_2_conv[0][0]'] \n",
            " rmalization)                                                                                     \n",
            "                                                                                                  \n",
            " conv4_block4_2_relu (Activ  (None, 32, 16, 256)          0         ['conv4_block4_2_bn[0][0]']   \n",
            " ation)                                                                                           \n",
            "                                                                                                  \n",
            " conv4_block4_3_conv (Conv2  (None, 32, 16, 1024)         263168    ['conv4_block4_2_relu[0][0]'] \n",
            " D)                                                                                               \n",
            "                                                                                                  \n",
            " conv4_block4_3_bn (BatchNo  (None, 32, 16, 1024)         4096      ['conv4_block4_3_conv[0][0]'] \n",
            " rmalization)                                                                                     \n",
            "                                                                                                  \n",
            " conv4_block4_add (Add)      (None, 32, 16, 1024)         0         ['conv4_block3_out[0][0]',    \n",
            "                                                                     'conv4_block4_3_bn[0][0]']   \n",
            "                                                                                                  \n",
            " conv4_block4_out (Activati  (None, 32, 16, 1024)         0         ['conv4_block4_add[0][0]']    \n",
            " on)                                                                                              \n",
            "                                                                                                  \n",
            " conv4_block5_1_conv (Conv2  (None, 32, 16, 256)          262400    ['conv4_block4_out[0][0]']    \n",
            " D)                                                                                               \n",
            "                                                                                                  \n",
            " conv4_block5_1_bn (BatchNo  (None, 32, 16, 256)          1024      ['conv4_block5_1_conv[0][0]'] \n",
            " rmalization)                                                                                     \n",
            "                                                                                                  \n",
            " conv4_block5_1_relu (Activ  (None, 32, 16, 256)          0         ['conv4_block5_1_bn[0][0]']   \n",
            " ation)                                                                                           \n",
            "                                                                                                  \n",
            " conv4_block5_2_conv (Conv2  (None, 32, 16, 256)          590080    ['conv4_block5_1_relu[0][0]'] \n",
            " D)                                                                                               \n",
            "                                                                                                  \n",
            " conv4_block5_2_bn (BatchNo  (None, 32, 16, 256)          1024      ['conv4_block5_2_conv[0][0]'] \n",
            " rmalization)                                                                                     \n",
            "                                                                                                  \n",
            " conv4_block5_2_relu (Activ  (None, 32, 16, 256)          0         ['conv4_block5_2_bn[0][0]']   \n",
            " ation)                                                                                           \n",
            "                                                                                                  \n",
            " conv4_block5_3_conv (Conv2  (None, 32, 16, 1024)         263168    ['conv4_block5_2_relu[0][0]'] \n",
            " D)                                                                                               \n",
            "                                                                                                  \n",
            " conv4_block5_3_bn (BatchNo  (None, 32, 16, 1024)         4096      ['conv4_block5_3_conv[0][0]'] \n",
            " rmalization)                                                                                     \n",
            "                                                                                                  \n",
            " conv4_block5_add (Add)      (None, 32, 16, 1024)         0         ['conv4_block4_out[0][0]',    \n",
            "                                                                     'conv4_block5_3_bn[0][0]']   \n",
            "                                                                                                  \n",
            " conv4_block5_out (Activati  (None, 32, 16, 1024)         0         ['conv4_block5_add[0][0]']    \n",
            " on)                                                                                              \n",
            "                                                                                                  \n",
            " average_pooling2d_1 (Avera  (None, 1, 1, 1024)           0         ['conv4_block5_out[0][0]']    \n",
            " gePooling2D)                                                                                     \n",
            "                                                                                                  \n",
            " conv2d_10 (Conv2D)          (None, 1, 1, 256)            262144    ['average_pooling2d_1[0][0]'] \n",
            "                                                                                                  \n",
            " batch_normalization_9 (Bat  (None, 1, 1, 256)            1024      ['conv2d_10[0][0]']           \n",
            " chNormalization)                                                                                 \n",
            "                                                                                                  \n",
            " conv2d_11 (Conv2D)          (None, 32, 16, 256)          262144    ['conv4_block5_out[0][0]']    \n",
            "                                                                                                  \n",
            " conv2d_12 (Conv2D)          (None, 32, 16, 256)          2359296   ['conv4_block5_out[0][0]']    \n",
            "                                                                                                  \n",
            " conv2d_13 (Conv2D)          (None, 32, 16, 256)          2359296   ['conv4_block5_out[0][0]']    \n",
            "                                                                                                  \n",
            " conv2d_14 (Conv2D)          (None, 32, 16, 256)          2359296   ['conv4_block5_out[0][0]']    \n",
            "                                                                                                  \n",
            " activation_10 (Activation)  (None, 1, 1, 256)            0         ['batch_normalization_9[0][0]'\n",
            "                                                                    ]                             \n",
            "                                                                                                  \n",
            " batch_normalization_10 (Ba  (None, 32, 16, 256)          1024      ['conv2d_11[0][0]']           \n",
            " tchNormalization)                                                                                \n",
            "                                                                                                  \n",
            " batch_normalization_11 (Ba  (None, 32, 16, 256)          1024      ['conv2d_12[0][0]']           \n",
            " tchNormalization)                                                                                \n",
            "                                                                                                  \n",
            " batch_normalization_12 (Ba  (None, 32, 16, 256)          1024      ['conv2d_13[0][0]']           \n",
            " tchNormalization)                                                                                \n",
            "                                                                                                  \n",
            " batch_normalization_13 (Ba  (None, 32, 16, 256)          1024      ['conv2d_14[0][0]']           \n",
            " tchNormalization)                                                                                \n",
            "                                                                                                  \n",
            " up_sampling2d_3 (UpSamplin  (None, 32, 16, 256)          0         ['activation_10[0][0]']       \n",
            " g2D)                                                                                             \n",
            "                                                                                                  \n",
            " activation_11 (Activation)  (None, 32, 16, 256)          0         ['batch_normalization_10[0][0]\n",
            "                                                                    ']                            \n",
            "                                                                                                  \n",
            " activation_12 (Activation)  (None, 32, 16, 256)          0         ['batch_normalization_11[0][0]\n",
            "                                                                    ']                            \n",
            "                                                                                                  \n",
            " activation_13 (Activation)  (None, 32, 16, 256)          0         ['batch_normalization_12[0][0]\n",
            "                                                                    ']                            \n",
            "                                                                                                  \n",
            " activation_14 (Activation)  (None, 32, 16, 256)          0         ['batch_normalization_13[0][0]\n",
            "                                                                    ']                            \n",
            "                                                                                                  \n",
            " concatenate_2 (Concatenate  (None, 32, 16, 1280)         0         ['up_sampling2d_3[0][0]',     \n",
            " )                                                                   'activation_11[0][0]',       \n",
            "                                                                     'activation_12[0][0]',       \n",
            "                                                                     'activation_13[0][0]',       \n",
            "                                                                     'activation_14[0][0]']       \n",
            "                                                                                                  \n",
            " conv2d_15 (Conv2D)          (None, 32, 16, 256)          327680    ['concatenate_2[0][0]']       \n",
            "                                                                                                  \n",
            " batch_normalization_14 (Ba  (None, 32, 16, 256)          1024      ['conv2d_15[0][0]']           \n",
            " tchNormalization)                                                                                \n",
            "                                                                                                  \n",
            " conv2d_16 (Conv2D)          (None, 128, 64, 48)          12288     ['conv2_block2_out[0][0]']    \n",
            "                                                                                                  \n",
            " activation_15 (Activation)  (None, 32, 16, 256)          0         ['batch_normalization_14[0][0]\n",
            "                                                                    ']                            \n",
            "                                                                                                  \n",
            " batch_normalization_15 (Ba  (None, 128, 64, 48)          192       ['conv2d_16[0][0]']           \n",
            " tchNormalization)                                                                                \n",
            "                                                                                                  \n",
            " up_sampling2d_4 (UpSamplin  (None, 128, 64, 256)         0         ['activation_15[0][0]']       \n",
            " g2D)                                                                                             \n",
            "                                                                                                  \n",
            " activation_16 (Activation)  (None, 128, 64, 48)          0         ['batch_normalization_15[0][0]\n",
            "                                                                    ']                            \n",
            "                                                                                                  \n",
            " concatenate_3 (Concatenate  (None, 128, 64, 304)         0         ['up_sampling2d_4[0][0]',     \n",
            " )                                                                   'activation_16[0][0]']       \n",
            "                                                                                                  \n",
            " global_average_pooling2d_2  (None, 304)                  0         ['concatenate_3[0][0]']       \n",
            "  (GlobalAveragePooling2D)                                                                        \n",
            "                                                                                                  \n",
            " reshape_2 (Reshape)         (None, 1, 1, 304)            0         ['global_average_pooling2d_2[0\n",
            "                                                                    ][0]']                        \n",
            "                                                                                                  \n",
            " dense_4 (Dense)             (None, 1, 1, 38)             11552     ['reshape_2[0][0]']           \n",
            "                                                                                                  \n",
            " dense_5 (Dense)             (None, 1, 1, 304)            11552     ['dense_4[0][0]']             \n",
            "                                                                                                  \n",
            " tf.math.multiply_2 (TFOpLa  (None, 128, 64, 304)         0         ['concatenate_3[0][0]',       \n",
            " mbda)                                                               'dense_5[0][0]']             \n",
            "                                                                                                  \n",
            " conv2d_17 (Conv2D)          (None, 128, 64, 256)         700416    ['tf.math.multiply_2[0][0]']  \n",
            "                                                                                                  \n",
            " batch_normalization_16 (Ba  (None, 128, 64, 256)         1024      ['conv2d_17[0][0]']           \n",
            " tchNormalization)                                                                                \n",
            "                                                                                                  \n",
            " activation_17 (Activation)  (None, 128, 64, 256)         0         ['batch_normalization_16[0][0]\n",
            "                                                                    ']                            \n",
            "                                                                                                  \n",
            " conv2d_18 (Conv2D)          (None, 128, 64, 256)         589824    ['activation_17[0][0]']       \n",
            "                                                                                                  \n",
            " batch_normalization_17 (Ba  (None, 128, 64, 256)         1024      ['conv2d_18[0][0]']           \n",
            " tchNormalization)                                                                                \n",
            "                                                                                                  \n",
            " activation_18 (Activation)  (None, 128, 64, 256)         0         ['batch_normalization_17[0][0]\n",
            "                                                                    ']                            \n",
            "                                                                                                  \n",
            " global_average_pooling2d_3  (None, 256)                  0         ['activation_18[0][0]']       \n",
            "  (GlobalAveragePooling2D)                                                                        \n",
            "                                                                                                  \n",
            " reshape_3 (Reshape)         (None, 1, 1, 256)            0         ['global_average_pooling2d_3[0\n",
            "                                                                    ][0]']                        \n",
            "                                                                                                  \n",
            " dense_6 (Dense)             (None, 1, 1, 32)             8192      ['reshape_3[0][0]']           \n",
            "                                                                                                  \n",
            " dense_7 (Dense)             (None, 1, 1, 256)            8192      ['dense_6[0][0]']             \n",
            "                                                                                                  \n",
            " tf.math.multiply_3 (TFOpLa  (None, 128, 64, 256)         0         ['activation_18[0][0]',       \n",
            " mbda)                                                               'dense_7[0][0]']             \n",
            "                                                                                                  \n",
            " up_sampling2d_5 (UpSamplin  (None, 512, 256, 256)        0         ['tf.math.multiply_3[0][0]']  \n",
            " g2D)                                                                                             \n",
            "                                                                                                  \n",
            " conv2d_19 (Conv2D)          (None, 512, 256, 1)          257       ['up_sampling2d_5[0][0]']     \n",
            "                                                                                                  \n",
            " activation_19 (Activation)  (None, 512, 256, 1)          0         ['conv2d_19[0][0]']           \n",
            "                                                                                                  \n",
            "==================================================================================================\n",
            "Total params: 16747905 (63.89 MB)\n",
            "Trainable params: 16716193 (63.77 MB)\n",
            "Non-trainable params: 31712 (123.88 KB)\n",
            "__________________________________________________________________________________________________\n"
          ]
        }
      ]
    },
    {
      "cell_type": "code",
      "source": [
        "# Load the test dataset\n",
        "dataset_path = 'new_data'\n",
        "test_x = sorted(glob(os.path.join(dataset_path, 'test', 'original_images', '*jpeg')))\n",
        "test_y = sorted(glob(os.path.join(dataset_path, 'test', 'mask_images', '*jpeg')))\n",
        "print(f'Test: \\t{len(test_x)} - {len(test_y)}')"
      ],
      "metadata": {
        "id": "F6mWX9ELJ0_1",
        "colab": {
          "base_uri": "https://localhost:8080/",
          "height": 0
        },
        "outputId": "a3175dd7-37c7-42be-f83f-3e02f09bb13d"
      },
      "execution_count": 25,
      "outputs": [
        {
          "output_type": "stream",
          "name": "stdout",
          "text": [
            "Test: \t15 - 15\n"
          ]
        }
      ]
    },
    {
      "cell_type": "code",
      "source": [
        "def save_results(image, mask, y_pred, save_image_path):\n",
        "    ## i - m - yp - yp*i\n",
        "    line = np.ones((H, 10, 3)) * 128\n",
        "\n",
        "    mask = np.expand_dims(mask, axis=-1) # (512, 256, 1)\n",
        "    mask = np.concatenate([mask, mask, mask], axis=-1) # (512, 256, 3)\n",
        "    mask = mask * 255.\n",
        "\n",
        "    y_pred = np.expand_dims(y_pred, axis=-1) # (512, 256, 1)\n",
        "    y_pred = np.concatenate([y_pred, y_pred, y_pred], axis=-1) # (512, 256, 3)\n",
        "    # y_pred = y_pred * 255.\n",
        "\n",
        "    masked_image = image * y_pred\n",
        "    y_pred = y_pred * 255.\n",
        "\n",
        "    cat_images = np.concatenate([image, line, mask, line, y_pred, line, masked_image], axis=1)\n",
        "    cv2.imwrite(save_image_path, cat_images)\n",
        "\n",
        "\n"
      ],
      "metadata": {
        "id": "ww0YjAdwfPqQ"
      },
      "execution_count": 26,
      "outputs": []
    },
    {
      "cell_type": "code",
      "source": [
        "# Evaluation and Prediction\n",
        "SCORE = []\n",
        "for x, y in tqdm(zip(test_x, test_y), total=len(test_x)):\n",
        "\n",
        "    # Extract the name\n",
        "    name = x.split('/')\n",
        "    name = '-'.join(name[3:])\n",
        "\n",
        "    # Reading the image\n",
        "    image = cv2.imread(x, cv2.IMREAD_COLOR)\n",
        "    x = image/ 255.0\n",
        "    x = np.expand_dims(x, axis=0)\n",
        "\n",
        "    # Reading the mask\n",
        "    mask = cv2.imread(y, cv2.IMREAD_GRAYSCALE)\n",
        "    # mask = mask/255.0\n",
        "\n",
        "    # Prediction\n",
        "    y_pred = model.predict(x)[0]\n",
        "    y_pred = np.squeeze(y_pred, axis=-1)\n",
        "    y_pred = y_pred > 0.5\n",
        "    y_pred = y_pred.astype(np.int32)\n",
        "\n",
        "    # Saving the prediction\n",
        "    save_image_path = f'results/{name}'\n",
        "    save_results(image, mask, y_pred, save_image_path)\n",
        "\n",
        "    # Flatten the array\n",
        "    mask = mask.flatten()\n",
        "    y_pred = y_pred.flatten()\n",
        "\n",
        "    mask = [1 if k>= 1 else k for k in mask]\n",
        "\n",
        "    # Calculating the metrics values\n",
        "    acc_value = accuracy_score(mask, y_pred)\n",
        "    f1_value = f1_score(mask, y_pred, labels=[0,1], average='binary')\n",
        "    jaccard_value = jaccard_score(mask, y_pred, labels=[0,1], average='binary')\n",
        "    recall_value = recall_score(mask, y_pred, labels=[0,1], average='binary')\n",
        "    precision_value = precision_score(mask, y_pred, labels=[0,1], average='binary')\n",
        "    SCORE.append([name, acc_value, f1_value, jaccard_value, recall_value, precision_value])\n",
        "\n",
        "\n",
        "# Metrics values\n",
        "score = [s[1:] for s in SCORE]\n",
        "score = np.mean(score, axis=0)\n",
        "print(f'Accuracy : \\t {score[0]:0.5f}')\n",
        "print(f'F1 : \\t {score[1]:0.5f}')\n",
        "print(f'Jaccard : \\t {score[2]:0.5f}')\n",
        "print(f'Recall : \\t {score[3]:0.5f}')\n",
        "print(f'Precision : \\t {score[4]:0.5f}')\n",
        "\n",
        "df = pd.DataFrame(SCORE, columns=['Image', 'Accuracy', 'F1', 'Jaccard', 'Recall', 'Precision'])\n",
        "df.to_csv('files/score.csv')"
      ],
      "metadata": {
        "id": "edzup7usJ1CM",
        "colab": {
          "base_uri": "https://localhost:8080/",
          "height": 0
        },
        "outputId": "35232a93-e51a-4236-b62c-9612b173eef4"
      },
      "execution_count": 27,
      "outputs": [
        {
          "output_type": "stream",
          "name": "stderr",
          "text": [
            "\r  0%|          | 0/15 [00:00<?, ?it/s]"
          ]
        },
        {
          "output_type": "stream",
          "name": "stdout",
          "text": [
            "1/1 [==============================] - 2s 2s/step\n"
          ]
        },
        {
          "output_type": "stream",
          "name": "stderr",
          "text": [
            "\r  7%|▋         | 1/15 [00:02<00:33,  2.39s/it]"
          ]
        },
        {
          "output_type": "stream",
          "name": "stdout",
          "text": [
            "1/1 [==============================] - 0s 51ms/step\n"
          ]
        },
        {
          "output_type": "stream",
          "name": "stderr",
          "text": [
            "\r 13%|█▎        | 2/15 [00:03<00:22,  1.70s/it]"
          ]
        },
        {
          "output_type": "stream",
          "name": "stdout",
          "text": [
            "1/1 [==============================] - 0s 66ms/step\n"
          ]
        },
        {
          "output_type": "stream",
          "name": "stderr",
          "text": [
            "\r 20%|██        | 3/15 [00:04<00:16,  1.41s/it]"
          ]
        },
        {
          "output_type": "stream",
          "name": "stdout",
          "text": [
            "1/1 [==============================] - 0s 49ms/step\n"
          ]
        },
        {
          "output_type": "stream",
          "name": "stderr",
          "text": [
            "\r 27%|██▋       | 4/15 [00:05<00:12,  1.14s/it]"
          ]
        },
        {
          "output_type": "stream",
          "name": "stdout",
          "text": [
            "1/1 [==============================] - 0s 48ms/step\n"
          ]
        },
        {
          "output_type": "stream",
          "name": "stderr",
          "text": [
            "\r 33%|███▎      | 5/15 [00:06<00:09,  1.01it/s]"
          ]
        },
        {
          "output_type": "stream",
          "name": "stdout",
          "text": [
            "1/1 [==============================] - 0s 48ms/step\n"
          ]
        },
        {
          "output_type": "stream",
          "name": "stderr",
          "text": [
            "\r 40%|████      | 6/15 [00:06<00:08,  1.10it/s]"
          ]
        },
        {
          "output_type": "stream",
          "name": "stdout",
          "text": [
            "1/1 [==============================] - 0s 48ms/step\n"
          ]
        },
        {
          "output_type": "stream",
          "name": "stderr",
          "text": [
            "\r 47%|████▋     | 7/15 [00:07<00:06,  1.17it/s]"
          ]
        },
        {
          "output_type": "stream",
          "name": "stdout",
          "text": [
            "1/1 [==============================] - 0s 48ms/step\n"
          ]
        },
        {
          "output_type": "stream",
          "name": "stderr",
          "text": [
            "\r 53%|█████▎    | 8/15 [00:08<00:05,  1.22it/s]"
          ]
        },
        {
          "output_type": "stream",
          "name": "stdout",
          "text": [
            "1/1 [==============================] - 0s 57ms/step\n"
          ]
        },
        {
          "output_type": "stream",
          "name": "stderr",
          "text": [
            "\r 60%|██████    | 9/15 [00:09<00:04,  1.26it/s]"
          ]
        },
        {
          "output_type": "stream",
          "name": "stdout",
          "text": [
            "1/1 [==============================] - 0s 52ms/step\n"
          ]
        },
        {
          "output_type": "stream",
          "name": "stderr",
          "text": [
            "\r 67%|██████▋   | 10/15 [00:09<00:03,  1.29it/s]"
          ]
        },
        {
          "output_type": "stream",
          "name": "stdout",
          "text": [
            "1/1 [==============================] - 0s 50ms/step\n"
          ]
        },
        {
          "output_type": "stream",
          "name": "stderr",
          "text": [
            "\r 73%|███████▎  | 11/15 [00:10<00:03,  1.32it/s]"
          ]
        },
        {
          "output_type": "stream",
          "name": "stdout",
          "text": [
            "1/1 [==============================] - 0s 50ms/step\n"
          ]
        },
        {
          "output_type": "stream",
          "name": "stderr",
          "text": [
            "\r 80%|████████  | 12/15 [00:11<00:02,  1.35it/s]"
          ]
        },
        {
          "output_type": "stream",
          "name": "stdout",
          "text": [
            "1/1 [==============================] - 0s 47ms/step\n"
          ]
        },
        {
          "output_type": "stream",
          "name": "stderr",
          "text": [
            "\r 87%|████████▋ | 13/15 [00:11<00:01,  1.35it/s]"
          ]
        },
        {
          "output_type": "stream",
          "name": "stdout",
          "text": [
            "1/1 [==============================] - 0s 47ms/step\n"
          ]
        },
        {
          "output_type": "stream",
          "name": "stderr",
          "text": [
            "\r 93%|█████████▎| 14/15 [00:12<00:00,  1.36it/s]"
          ]
        },
        {
          "output_type": "stream",
          "name": "stdout",
          "text": [
            "1/1 [==============================] - 0s 51ms/step\n"
          ]
        },
        {
          "output_type": "stream",
          "name": "stderr",
          "text": [
            "100%|██████████| 15/15 [00:13<00:00,  1.12it/s]"
          ]
        },
        {
          "output_type": "stream",
          "name": "stdout",
          "text": [
            "Accuracy : \t 0.93095\n",
            "F1 : \t 0.79870\n",
            "Jaccard : \t 0.70450\n",
            "Recall : \t 0.70993\n",
            "Precision : \t 0.98980\n"
          ]
        },
        {
          "output_type": "stream",
          "name": "stderr",
          "text": [
            "\n"
          ]
        }
      ]
    },
    {
      "cell_type": "markdown",
      "source": [
        "## predict"
      ],
      "metadata": {
        "id": "rsKbMp64SHxG"
      }
    },
    {
      "cell_type": "code",
      "source": [
        "!unzip test_hand.zip"
      ],
      "metadata": {
        "id": "tpCOX6y1J1Ef",
        "colab": {
          "base_uri": "https://localhost:8080/",
          "height": 0
        },
        "outputId": "3cec0c0d-7ba9-4818-e7f9-0c13f3c93cf8"
      },
      "execution_count": 30,
      "outputs": [
        {
          "output_type": "stream",
          "name": "stdout",
          "text": [
            "Archive:  test_hand.zip\n",
            "  inflating: test_hand/Free Close-Up Photography of Girl's Left Hand Wearing Bracelet Stock Photo.jpg  \n",
            "  inflating: test_hand/Free Close-Up Photography of Hand Stock Photo.jpg  \n",
            "  inflating: test_hand/Free Couple  of hands Stock Photo (1).jpg  \n",
            "  inflating: test_hand/Free Couple  of hands Stock Photo.jpg  \n",
            "  inflating: test_hand/Free Crop model touching wrist of black woman Stock Photo.jpg  \n",
            "  inflating: test_hand/Free Green and Gray Mountains Near Body of Water Stock Photo.jpg  \n",
            "  inflating: test_hand/Free Hand Sign Stock Photo.jpg  \n",
            "  inflating: test_hand/Free Left Hand Stock Photo.jpg  \n",
            "  inflating: test_hand/Free Orange-petaled Flower Stock Photo.jpg  \n",
            "  inflating: test_hand/Free Person Holding Light Bulb Stock Photo.jpg  \n",
            "  inflating: test_hand/Free Person Holding White Rose Stock Photo.jpg  \n",
            "  inflating: test_hand/Free Person Showing Right Hand Stock Photo.jpg  \n",
            "  inflating: test_hand/Free Person's Hand on Water Stock Photo.jpg  \n",
            "  inflating: test_hand/Free Persons Left Hand With Red Manicure Stock Photo.jpg  \n",
            "  inflating: test_hand/Free Photo Of Person's Hands Stock Photo.jpg  \n",
            "  inflating: test_hand/Free Selective Focus Photography of Right Human Hand Stock Photo.jpg  \n",
            "  inflating: test_hand/Free Woman in Black and Brown Long Sleeve Shirt Raising Her Hands Stock Photo.jpg  \n"
          ]
        }
      ]
    },
    {
      "cell_type": "code",
      "source": [
        "data_x = glob('test_hand/*')"
      ],
      "metadata": {
        "id": "u31G4qYKJ1Gg"
      },
      "execution_count": 31,
      "outputs": []
    },
    {
      "cell_type": "code",
      "source": [
        "create_dir('test_hand/mask')"
      ],
      "metadata": {
        "id": "Mp3PnltHJ1Kp"
      },
      "execution_count": 34,
      "outputs": []
    },
    {
      "cell_type": "code",
      "source": [
        "for path in tqdm(data_x, total=len(data_x)):\n",
        "    name = path.split('/')[-1]\n",
        "\n",
        "    # Reading the image\n",
        "    image = cv2.imread(path, cv2.IMREAD_COLOR)\n",
        "    h, w, _ = image.shape\n",
        "\n",
        "    x = cv2.resize(image, (W, H))\n",
        "    x = x / 255.0\n",
        "    x = x.astype(np.float32)\n",
        "    x = np.expand_dims(x, axis=0)\n",
        "\n",
        "    # Prediction\n",
        "    y = model.predict(x)[0]\n",
        "    y = cv2.resize(y, (w, h))\n",
        "    y = np.expand_dims(y, axis=-1)\n",
        "\n",
        "    # Save the images\n",
        "    masked_image = image * y\n",
        "    line = np.ones((h, 10, 3)) * 128\n",
        "    cat_images = np.concatenate([image, line, masked_image], axis=1)\n",
        "    cv2.imwrite(f'test_hand/mask/{name}', cat_images)"
      ],
      "metadata": {
        "id": "qwMEo9hzJ1NR",
        "colab": {
          "base_uri": "https://localhost:8080/"
        },
        "outputId": "65e16f64-c368-4e7b-9107-47e88b39edbb"
      },
      "execution_count": 35,
      "outputs": [
        {
          "output_type": "stream",
          "name": "stderr",
          "text": [
            "\r  0%|          | 0/17 [00:00<?, ?it/s]"
          ]
        },
        {
          "output_type": "stream",
          "name": "stdout",
          "text": [
            "1/1 [==============================] - 0s 49ms/step\n"
          ]
        },
        {
          "output_type": "stream",
          "name": "stderr",
          "text": [
            "\r  6%|▌         | 1/17 [00:00<00:02,  6.20it/s]"
          ]
        },
        {
          "output_type": "stream",
          "name": "stdout",
          "text": [
            "1/1 [==============================] - 0s 48ms/step\n"
          ]
        },
        {
          "output_type": "stream",
          "name": "stderr",
          "text": [
            "\r 12%|█▏        | 2/17 [00:00<00:01,  7.85it/s]"
          ]
        },
        {
          "output_type": "stream",
          "name": "stdout",
          "text": [
            "1/1 [==============================] - 0s 50ms/step\n"
          ]
        },
        {
          "output_type": "stream",
          "name": "stderr",
          "text": [
            "\r 18%|█▊        | 3/17 [00:00<00:01,  7.98it/s]"
          ]
        },
        {
          "output_type": "stream",
          "name": "stdout",
          "text": [
            "1/1 [==============================] - 0s 52ms/step\n"
          ]
        },
        {
          "output_type": "stream",
          "name": "stderr",
          "text": [
            "\r 24%|██▎       | 4/17 [00:00<00:01,  7.94it/s]"
          ]
        },
        {
          "output_type": "stream",
          "name": "stdout",
          "text": [
            "1/1 [==============================] - 0s 51ms/step\n"
          ]
        },
        {
          "output_type": "stream",
          "name": "stderr",
          "text": [
            "\r 29%|██▉       | 5/17 [00:00<00:01,  7.77it/s]"
          ]
        },
        {
          "output_type": "stream",
          "name": "stdout",
          "text": [
            "1/1 [==============================] - 0s 48ms/step\n"
          ]
        },
        {
          "output_type": "stream",
          "name": "stderr",
          "text": [
            "\r 35%|███▌      | 6/17 [00:00<00:01,  7.96it/s]"
          ]
        },
        {
          "output_type": "stream",
          "name": "stdout",
          "text": [
            "1/1 [==============================] - 0s 50ms/step\n"
          ]
        },
        {
          "output_type": "stream",
          "name": "stderr",
          "text": [
            "\r 41%|████      | 7/17 [00:00<00:01,  7.44it/s]"
          ]
        },
        {
          "output_type": "stream",
          "name": "stdout",
          "text": [
            "1/1 [==============================] - 0s 48ms/step\n"
          ]
        },
        {
          "output_type": "stream",
          "name": "stderr",
          "text": [
            "\r 47%|████▋     | 8/17 [00:01<00:01,  7.77it/s]"
          ]
        },
        {
          "output_type": "stream",
          "name": "stdout",
          "text": [
            "1/1 [==============================] - 0s 46ms/step\n"
          ]
        },
        {
          "output_type": "stream",
          "name": "stderr",
          "text": [
            "\r 53%|█████▎    | 9/17 [00:01<00:01,  7.86it/s]"
          ]
        },
        {
          "output_type": "stream",
          "name": "stdout",
          "text": [
            "1/1 [==============================] - 0s 48ms/step\n"
          ]
        },
        {
          "output_type": "stream",
          "name": "stderr",
          "text": [
            "\r 59%|█████▉    | 10/17 [00:01<00:00,  8.28it/s]"
          ]
        },
        {
          "output_type": "stream",
          "name": "stdout",
          "text": [
            "1/1 [==============================] - 0s 56ms/step\n"
          ]
        },
        {
          "output_type": "stream",
          "name": "stderr",
          "text": [
            "\r 65%|██████▍   | 11/17 [00:01<00:00,  8.38it/s]"
          ]
        },
        {
          "output_type": "stream",
          "name": "stdout",
          "text": [
            "1/1 [==============================] - 0s 48ms/step\n"
          ]
        },
        {
          "output_type": "stream",
          "name": "stderr",
          "text": [
            "\r 71%|███████   | 12/17 [00:01<00:00,  7.91it/s]"
          ]
        },
        {
          "output_type": "stream",
          "name": "stdout",
          "text": [
            "1/1 [==============================] - 0s 50ms/step\n"
          ]
        },
        {
          "output_type": "stream",
          "name": "stderr",
          "text": [
            "\r 76%|███████▋  | 13/17 [00:01<00:00,  7.81it/s]"
          ]
        },
        {
          "output_type": "stream",
          "name": "stdout",
          "text": [
            "1/1 [==============================] - 0s 48ms/step\n"
          ]
        },
        {
          "output_type": "stream",
          "name": "stderr",
          "text": [
            "\r 82%|████████▏ | 14/17 [00:01<00:00,  7.52it/s]"
          ]
        },
        {
          "output_type": "stream",
          "name": "stdout",
          "text": [
            "1/1 [==============================] - 0s 51ms/step\n"
          ]
        },
        {
          "output_type": "stream",
          "name": "stderr",
          "text": [
            "\r 88%|████████▊ | 15/17 [00:01<00:00,  7.37it/s]"
          ]
        },
        {
          "output_type": "stream",
          "name": "stdout",
          "text": [
            "1/1 [==============================] - 0s 50ms/step\n"
          ]
        },
        {
          "output_type": "stream",
          "name": "stderr",
          "text": [
            "\r 94%|█████████▍| 16/17 [00:02<00:00,  7.82it/s]"
          ]
        },
        {
          "output_type": "stream",
          "name": "stdout",
          "text": [
            "1/1 [==============================] - 0s 62ms/step\n"
          ]
        },
        {
          "output_type": "stream",
          "name": "stderr",
          "text": [
            "100%|██████████| 17/17 [00:02<00:00,  7.57it/s]\n"
          ]
        }
      ]
    },
    {
      "cell_type": "code",
      "source": [
        "original_image_list = []\n",
        "mask_image_list = []\n",
        "\n",
        "for pathh in list_folder:\n",
        "\n",
        "    original_image_path = os.path.join(file_name_prefix, pathh, 'original')\n",
        "    mask_image_path = os.path.join(file_name_prefix, pathh, 'no_bg')\n",
        "\n",
        "    original_image_list.append( os.path.join(original_image_path, os.listdir(original_image_path)[0]) )\n",
        "    mask_image_list.append( os.path.join(mask_image_path, os.listdir(mask_image_path)[0]) )"
      ],
      "metadata": {
        "id": "FDyKMs8s32wf"
      },
      "execution_count": 28,
      "outputs": []
    },
    {
      "cell_type": "code",
      "source": [
        "N = 3\n",
        "img = imageio.imread(original_image_list[N])\n",
        "mask = imageio.imread(mask_image_list[N])\n",
        "\n",
        "fig, arr = plt.subplots(1, 2, figsize=(8, 6))\n",
        "arr[0].imshow(img)\n",
        "arr[0].set_title('Image')\n",
        "arr[1].imshow(mask[:, :, :])\n",
        "arr[1].set_title('Masked hand')"
      ],
      "metadata": {
        "id": "nFWMOAOP33vP",
        "colab": {
          "base_uri": "https://localhost:8080/",
          "height": 254
        },
        "outputId": "1b29da93-ee8a-41da-fb87-df4d40217a29"
      },
      "execution_count": 29,
      "outputs": [
        {
          "output_type": "error",
          "ename": "NameError",
          "evalue": "ignored",
          "traceback": [
            "\u001b[0;31m---------------------------------------------------------------------------\u001b[0m",
            "\u001b[0;31mNameError\u001b[0m                                 Traceback (most recent call last)",
            "\u001b[0;32m<ipython-input-29-e6ae0e7bec03>\u001b[0m in \u001b[0;36m<cell line: 2>\u001b[0;34m()\u001b[0m\n\u001b[1;32m      1\u001b[0m \u001b[0mN\u001b[0m \u001b[0;34m=\u001b[0m \u001b[0;36m3\u001b[0m\u001b[0;34m\u001b[0m\u001b[0;34m\u001b[0m\u001b[0m\n\u001b[0;32m----> 2\u001b[0;31m \u001b[0mimg\u001b[0m \u001b[0;34m=\u001b[0m \u001b[0mimageio\u001b[0m\u001b[0;34m.\u001b[0m\u001b[0mimread\u001b[0m\u001b[0;34m(\u001b[0m\u001b[0moriginal_image_list\u001b[0m\u001b[0;34m[\u001b[0m\u001b[0mN\u001b[0m\u001b[0;34m]\u001b[0m\u001b[0;34m)\u001b[0m\u001b[0;34m\u001b[0m\u001b[0;34m\u001b[0m\u001b[0m\n\u001b[0m\u001b[1;32m      3\u001b[0m \u001b[0mmask\u001b[0m \u001b[0;34m=\u001b[0m \u001b[0mimageio\u001b[0m\u001b[0;34m.\u001b[0m\u001b[0mimread\u001b[0m\u001b[0;34m(\u001b[0m\u001b[0mmask_image_list\u001b[0m\u001b[0;34m[\u001b[0m\u001b[0mN\u001b[0m\u001b[0;34m]\u001b[0m\u001b[0;34m)\u001b[0m\u001b[0;34m\u001b[0m\u001b[0;34m\u001b[0m\u001b[0m\n\u001b[1;32m      4\u001b[0m \u001b[0;34m\u001b[0m\u001b[0m\n\u001b[1;32m      5\u001b[0m \u001b[0mfig\u001b[0m\u001b[0;34m,\u001b[0m \u001b[0marr\u001b[0m \u001b[0;34m=\u001b[0m \u001b[0mplt\u001b[0m\u001b[0;34m.\u001b[0m\u001b[0msubplots\u001b[0m\u001b[0;34m(\u001b[0m\u001b[0;36m1\u001b[0m\u001b[0;34m,\u001b[0m \u001b[0;36m2\u001b[0m\u001b[0;34m,\u001b[0m \u001b[0mfigsize\u001b[0m\u001b[0;34m=\u001b[0m\u001b[0;34m(\u001b[0m\u001b[0;36m8\u001b[0m\u001b[0;34m,\u001b[0m \u001b[0;36m6\u001b[0m\u001b[0;34m)\u001b[0m\u001b[0;34m)\u001b[0m\u001b[0;34m\u001b[0m\u001b[0;34m\u001b[0m\u001b[0m\n",
            "\u001b[0;31mNameError\u001b[0m: name 'imageio' is not defined"
          ]
        }
      ]
    },
    {
      "cell_type": "code",
      "source": [
        "image_list_ds = tf.data.Dataset.list_files(original_image_list, shuffle=False)\n",
        "mask_list_ds = tf.data.Dataset.list_files(mask_image_list, shuffle=False)\n",
        "\n",
        "for path in zip(image_list_ds.take(3), mask_list_ds.take(3)):\n",
        "    print(path)"
      ],
      "metadata": {
        "id": "y0g4bz2E4gLd"
      },
      "execution_count": null,
      "outputs": []
    },
    {
      "cell_type": "code",
      "source": [
        "image_filename = tf.constant(original_image_list)\n",
        "masks_filename = tf.constant(mask_image_list)\n",
        "\n",
        "dataset = tf.data.Dataset.from_tensor_slices((image_filename, masks_filename))\n",
        "\n",
        "for image, mask in dataset.take(1):\n",
        "    print(image)\n",
        "    print(mask)"
      ],
      "metadata": {
        "id": "PksNKJkZrlgt"
      },
      "execution_count": null,
      "outputs": []
    },
    {
      "cell_type": "code",
      "source": [
        "def process_path(image_path, mask_path):\n",
        "    img = tf.io.read_file(image_path)\n",
        "    img = tf.image.decode_png(img, channels=3)\n",
        "    img = tf.image.convert_image_dtype(img, tf.float32)\n",
        "\n",
        "    mask = tf.io.read_file(mask_path)\n",
        "    mask = tf.image.decode_png(mask, channels=3)\n",
        "    mask = tf.math.reduce_max(mask, axis=-1, keepdims=True)\n",
        "    return img, mask\n",
        "\n",
        "def preprocess(image, mask):\n",
        "    input_image = tf.image.resize(image, (96, 128), method='nearest')\n",
        "    input_mask = tf.image.resize(mask, (96, 128), method='nearest')\n",
        "\n",
        "    # input_image = input_image / 255.\n",
        "    # input_mask = input_mask / 255.\n",
        "\n",
        "    return input_image, input_mask\n",
        "\n",
        "image_ds = dataset.map(process_path)\n",
        "processed_image_ds = image_ds.map(preprocess)"
      ],
      "metadata": {
        "id": "m6-SWyi1rz1F"
      },
      "execution_count": null,
      "outputs": []
    },
    {
      "cell_type": "code",
      "source": [
        "def conv_block(inputs=None, n_filters=32, dropout_prob=0, max_pooling=True):\n",
        "    \"\"\"\n",
        "    Convolutional downsampling block\n",
        "\n",
        "    Arguments:\n",
        "        inputs -- Input tensor\n",
        "        n_filters -- Number of filters for the convolutional layers\n",
        "        dropout_prob -- Dropout probability\n",
        "        max_pooling -- Use MaxPooling2D to reduce the spatial dimensions of\n",
        "                       the output volume\n",
        "    Returns:\n",
        "        next_layer, skip_connection --  Next layer and skip connection outputs\n",
        "    \"\"\"\n",
        "    conv = Conv2D(n_filters,                 # Number of filters\n",
        "                  3,                         # Kernel size\n",
        "                  activation='relu',\n",
        "                  padding='same',\n",
        "                  kernel_initializer='HeNormal')(inputs)\n",
        "\n",
        "    conv = Conv2D(n_filters,                 # Number of filters\n",
        "                  3,                         # Kernel size\n",
        "                  activation='relu',\n",
        "                  padding='same',\n",
        "                  kernel_initializer= 'HeNormal')(conv)\n",
        "\n",
        "    # if dropout_prob > 0 add a dropout layer, with the variable dropout_prob as parameter\n",
        "    if dropout_prob > 0:\n",
        "        conv = Dropout(dropout_prob)(conv)\n",
        "\n",
        "    # if max_pooling is True add a MaxPooling2D with 2x2 pool_size\n",
        "    if max_pooling:\n",
        "        # next_layer = MaxPooling2D(2, strides=2)(conv)\n",
        "        next_layer = MaxPooling2D((2,2))(conv)\n",
        "    else:\n",
        "        next_layer = conv\n",
        "\n",
        "    skip_connection = conv\n",
        "\n",
        "    return next_layer, skip_connection"
      ],
      "metadata": {
        "id": "zoLhTX68sFJ0"
      },
      "execution_count": null,
      "outputs": []
    },
    {
      "cell_type": "code",
      "source": [
        "def upsampling_block(expansive_input, contractive_input, n_filters=32):\n",
        "    \"\"\"\n",
        "    Convolutional upsampling block\n",
        "\n",
        "    Arguments:\n",
        "        expansive_input -- Input tensor from previous layer\n",
        "        contractive_input -- Input tensor from previous skip layer\n",
        "        n_filters -- Number of filters for the convolutional layers\n",
        "    Returns:\n",
        "        conv -- Tensor output\n",
        "    \"\"\"\n",
        "\n",
        "    up = Conv2DTranspose(\n",
        "                 n_filters,               # number of filters\n",
        "                 3,                       # Kernel size\n",
        "                 strides=(2,2),\n",
        "                 padding='same')(expansive_input)\n",
        "\n",
        "    # Merge the previous output and the contractive_input\n",
        "    merge = concatenate([up, contractive_input], axis=3)\n",
        "\n",
        "    conv = Conv2D(n_filters,              # Number of filters\n",
        "                  3,                      # Kernel size\n",
        "                  activation='relu',\n",
        "                  padding='same',\n",
        "                  kernel_initializer= 'HeNormal')(merge)\n",
        "    conv = Conv2D(n_filters,              # Number of filters\n",
        "                  3,                      # Kernel size\n",
        "                  activation='relu',\n",
        "                  padding='same',\n",
        "                  kernel_initializer= 'HeNormal')(conv)\n",
        "\n",
        "    return conv"
      ],
      "metadata": {
        "id": "XmsuDTyLsKE1"
      },
      "execution_count": null,
      "outputs": []
    },
    {
      "cell_type": "code",
      "source": [
        "def unet_model(input_size=(96, 128, 3), n_filters=32, n_classes=23):\n",
        "    \"\"\"\n",
        "    Unet model\n",
        "\n",
        "    Arguments:\n",
        "        input_size -- Input shape\n",
        "        n_filters -- Number of filters for the convolutional layers\n",
        "        n_classes -- Number of output classes\n",
        "    Returns:\n",
        "        model -- tf.keras.Model\n",
        "    \"\"\"\n",
        "    inputs = Input(input_size)\n",
        "\n",
        "    ####################################################################\n",
        "    # Contracting Path (encoding)\n",
        "    # Add a conv_block with the inputs of the unet_ model and n_filters\n",
        "    cblock1 = conv_block(inputs=inputs, n_filters=n_filters*1)\n",
        "\n",
        "    # Chain the first element of the output of each block to be the input of the next conv_block.\n",
        "    # Double the number of filters at each new step\n",
        "    cblock2 = conv_block(inputs=cblock1[0], n_filters=n_filters*2)\n",
        "    cblock3 = conv_block(inputs=cblock2[0], n_filters=n_filters*4)\n",
        "\n",
        "    # Include a dropout of 0.3 for this layer\n",
        "    cblock4 = conv_block(inputs=cblock3[0], n_filters=n_filters*8, dropout_prob=0.3)\n",
        "\n",
        "    # Include a dropout of 0.3 for this layer, and avoid the max_pooling layer\n",
        "    cblock5 = conv_block(inputs=cblock4[0], n_filters=n_filters*16, dropout_prob=0.3, max_pooling=False)\n",
        "\n",
        "    ####################################################################\n",
        "    # Expanding Path (decoding)\n",
        "    # Add the first upsampling_block.\n",
        "    # From here,at each step, use half the number of filters of the previous block\n",
        "    # Use the cblock5[0] as expansive_input and cblock4[1] as contractive_input and n_filters * 8\n",
        "    ublock6 = upsampling_block(cblock5[0], cblock4[1], n_filters*8)\n",
        "\n",
        "    # Chain the output of the previous block as expansive_input and the corresponding contractive block output.\n",
        "    # Note that you must use the second element of the contractive block i.e before the maxpooling layer.\n",
        "    ublock7 = upsampling_block(ublock6, cblock3[1], n_filters*4)\n",
        "    ublock8 = upsampling_block(ublock7, cblock2[1], n_filters*2)\n",
        "    ublock9 = upsampling_block(ublock8, cblock1[1], n_filters*1)\n",
        "\n",
        "    conv9 = Conv2D(n_filters,\n",
        "                   3,\n",
        "                   activation='relu',\n",
        "                   padding='same',\n",
        "                   kernel_initializer='HeNormal')(ublock9)\n",
        "\n",
        "    # Add a Conv2D layer with n_classes filter, kernel size of 1 and a 'same' padding\n",
        "    conv10 = Conv2D(n_classes, 1, padding='same')(conv9)\n",
        "\n",
        "    model = tf.keras.Model(inputs=inputs, outputs=conv10)\n",
        "\n",
        "    return model"
      ],
      "metadata": {
        "id": "7jfw8plzsO60"
      },
      "execution_count": null,
      "outputs": []
    },
    {
      "cell_type": "code",
      "source": [
        "img_height = 96\n",
        "img_width = 128\n",
        "num_channels = 3\n",
        "\n",
        "unet = unet_model((img_height, img_width, num_channels), n_classes=1)"
      ],
      "metadata": {
        "id": "JUyJy1OPsTHU"
      },
      "execution_count": null,
      "outputs": []
    },
    {
      "cell_type": "code",
      "source": [
        "unet.summary()"
      ],
      "metadata": {
        "id": "zvyV2k1LsXOV"
      },
      "execution_count": null,
      "outputs": []
    },
    {
      "cell_type": "code",
      "source": [
        "unet.compile(optimizer='adam',\n",
        "              loss=tf.keras.losses.SparseCategoricalCrossentropy(from_logits=True),\n",
        "              metrics=['accuracy'])"
      ],
      "metadata": {
        "id": "bKuJTzM3s5UT"
      },
      "execution_count": null,
      "outputs": []
    },
    {
      "cell_type": "code",
      "source": [
        "def display(display_list):\n",
        "    plt.figure(figsize=(8, 8))\n",
        "\n",
        "    title = ['Input Image', 'True Mask', 'Predicted Mask']\n",
        "\n",
        "    for i in range(len(display_list)):\n",
        "        plt.subplot(1, len(display_list), i+1)\n",
        "        plt.title(title[i])\n",
        "        plt.imshow(tf.keras.preprocessing.image.array_to_img(display_list[i]))\n",
        "        plt.axis('off')\n",
        "    plt.show()"
      ],
      "metadata": {
        "id": "Syt_JemXs9GT"
      },
      "execution_count": null,
      "outputs": []
    },
    {
      "cell_type": "code",
      "source": [
        "for image, mask in image_ds.take(1):\n",
        "    sample_image, sample_mask = image, mask\n",
        "    print(mask.shape)\n",
        "display([sample_image, sample_mask])"
      ],
      "metadata": {
        "id": "WUVUihFjtAtT"
      },
      "execution_count": null,
      "outputs": []
    },
    {
      "cell_type": "code",
      "source": [
        "for image, mask in processed_image_ds.take(1):\n",
        "    sample_image, sample_mask = image, mask\n",
        "    print(mask.shape)\n",
        "display([sample_image, sample_mask])"
      ],
      "metadata": {
        "id": "Q8AV9Nm8tDJT"
      },
      "execution_count": null,
      "outputs": []
    },
    {
      "cell_type": "code",
      "source": [
        "EPOCHS = 40\n",
        "BUFFER_SIZE = 500\n",
        "BATCH_SIZE = 1\n",
        "\n",
        "processed_image_ds.batch(BATCH_SIZE)\n",
        "train_dataset = processed_image_ds.cache().shuffle(BUFFER_SIZE).batch(BATCH_SIZE)\n",
        "\n",
        "print(processed_image_ds.element_spec)\n",
        "model_history = unet.fit(train_dataset, epochs=EPOCHS)"
      ],
      "metadata": {
        "id": "exIV39g2tZgz"
      },
      "execution_count": null,
      "outputs": []
    },
    {
      "cell_type": "code",
      "source": [],
      "metadata": {
        "id": "f_wOWEHUtfyT"
      },
      "execution_count": null,
      "outputs": []
    }
  ]
}